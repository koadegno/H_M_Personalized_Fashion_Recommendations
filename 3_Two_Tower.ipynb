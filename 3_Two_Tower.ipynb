{
 "cells": [
  {
   "cell_type": "markdown",
   "metadata": {},
   "source": [
    "## Overview\n",
    "### Two Tower Architecture\n",
    "This model is based on the two-tower architecture\n",
    "The two towers are used to learn representations of both the user and the item. The two-tower model is based on queries and the candidate they both shared a low-dimensional vector space. In our case, a query is customer and its transactions features and the candidate is the articles.\n",
    "\n",
    "I will try to use mlflow to keep track of experiments (and improve myself with this tool).\n",
    "\n",
    "\n",
    "\n",
    "![Alt text](https://miro.medium.com/v2/resize:fit:420/1*JbK2gjfLC4IFoM6AVWLaUQ.png)\n",
    "\n",
    "![Alt text](https://miro.medium.com/v2/resize:fit:420/format:webp/0*aJHT3_bGIvERfhaY)\n",
    "\n",
    "[image source](https://medium.com/smartnews-inc/user-behavior-sequence-for-items-recommendation-in-smartnews-ads-2376622f6192)\n",
    "\n",
    "\n",
    "\n",
    "Source: \n",
    "- https://medium.com/smartnews-inc/user-behavior-sequence-for-items-recommendation-in-smartnews-ads-2376622f6192\n",
    "- https://cloud.google.com/blog/products/ai-machine-learning/scaling-deep-retrieval-tensorflow-two-towers-architecture?hl=en"
   ]
  },
  {
   "cell_type": "code",
   "execution_count": 2,
   "metadata": {},
   "outputs": [],
   "source": [
    "import pandas as pd\n",
    "import numpy as np\n",
    "import preprocessing\n",
    "import torch"
   ]
  },
  {
   "cell_type": "markdown",
   "metadata": {},
   "source": [
    "## Reading data and feature selections"
   ]
  },
  {
   "cell_type": "code",
   "execution_count": 3,
   "metadata": {},
   "outputs": [
    {
     "name": "stdout",
     "output_type": "stream",
     "text": [
      "Shape before:  (105542, 25)\n",
      "Shape after:  (105542, 24)\n"
     ]
    }
   ],
   "source": [
    "articles_df = pd.read_csv(\"data/articles.csv\", encoding=\"utf-8\")\n",
    "print(\"Shape before: \", articles_df.shape)\n",
    "articles_df = preprocessing.preprocess_articles(articles_df)\n",
    "print(\"Shape after: \", articles_df.shape)"
   ]
  },
  {
   "cell_type": "code",
   "execution_count": 4,
   "metadata": {},
   "outputs": [
    {
     "name": "stdout",
     "output_type": "stream",
     "text": [
      "Shape before:  (1371980, 7)\n",
      "Shape after:  (1356119, 5)\n"
     ]
    }
   ],
   "source": [
    "customers_df = pd.read_csv(\"data/customers.csv\", encoding=\"utf-8\")\n",
    "print(\"Shape before: \", customers_df.shape)\n",
    "customers_df = preprocessing.preprocess_customers(customers_df)\n",
    "print(\"Shape after: \", customers_df.shape)"
   ]
  },
  {
   "cell_type": "code",
   "execution_count": 5,
   "metadata": {},
   "outputs": [
    {
     "name": "stdout",
     "output_type": "stream",
     "text": [
      "Shape before:  (31788324, 5)\n",
      "Shape after:  (31788324, 11)\n"
     ]
    }
   ],
   "source": [
    "transaction_df = pd.read_csv(\"data/transactions_train.csv\", encoding=\"utf-8\")\n",
    "print(\"Shape before: \", transaction_df.shape)\n",
    "transaction_df = preprocessing.preprocess_transactions(transaction_df)\n",
    "print(\"Shape after: \", transaction_df.shape)"
   ]
  },
  {
   "cell_type": "code",
   "execution_count": 6,
   "metadata": {},
   "outputs": [],
   "source": [
    "# join the three data sources to make the data compatible with out retrieval model.\n",
    "df = pd.merge(\n",
    "    pd.merge(\n",
    "        transaction_df[[\"article_id\", \"customer_id\", \"t_dat\", \"price\", \"month_sin\", \"month_cos\"]], articles_df[[\"article_id\", \"garment_group_name\", \"index_group_name\"]], on=\"article_id\", how=\"inner\"\n",
    "    ),\n",
    "    customers_df[[\"customer_id\", \"age\", \"club_member_status\", \"age_group\"]],\n",
    "    on=\"customer_id\",\n",
    "    how=\"inner\",\n",
    ")"
   ]
  },
  {
   "cell_type": "code",
   "execution_count": 7,
   "metadata": {},
   "outputs": [
    {
     "data": {
      "text/html": [
       "<div>\n",
       "<style scoped>\n",
       "    .dataframe tbody tr th:only-of-type {\n",
       "        vertical-align: middle;\n",
       "    }\n",
       "\n",
       "    .dataframe tbody tr th {\n",
       "        vertical-align: top;\n",
       "    }\n",
       "\n",
       "    .dataframe thead th {\n",
       "        text-align: right;\n",
       "    }\n",
       "</style>\n",
       "<table border=\"1\" class=\"dataframe\">\n",
       "  <thead>\n",
       "    <tr style=\"text-align: right;\">\n",
       "      <th></th>\n",
       "      <th>article_id</th>\n",
       "      <th>customer_id</th>\n",
       "      <th>t_dat</th>\n",
       "      <th>price</th>\n",
       "      <th>month_sin</th>\n",
       "      <th>month_cos</th>\n",
       "      <th>garment_group_name</th>\n",
       "      <th>index_group_name</th>\n",
       "      <th>age</th>\n",
       "      <th>club_member_status</th>\n",
       "      <th>age_group</th>\n",
       "    </tr>\n",
       "  </thead>\n",
       "  <tbody>\n",
       "    <tr>\n",
       "      <th>0</th>\n",
       "      <td>663713001</td>\n",
       "      <td>000058a12d5b43e67d225668fa1f8d618c13dc232df0ca...</td>\n",
       "      <td>2018-09-20</td>\n",
       "      <td>0.050831</td>\n",
       "      <td>-0.866025</td>\n",
       "      <td>-0.5</td>\n",
       "      <td>Under-, Nightwear</td>\n",
       "      <td>Ladieswear</td>\n",
       "      <td>24.0</td>\n",
       "      <td>ACTIVE</td>\n",
       "      <td>19-25</td>\n",
       "    </tr>\n",
       "    <tr>\n",
       "      <th>1</th>\n",
       "      <td>663713001</td>\n",
       "      <td>000058a12d5b43e67d225668fa1f8d618c13dc232df0ca...</td>\n",
       "      <td>2018-09-24</td>\n",
       "      <td>0.050831</td>\n",
       "      <td>-0.866025</td>\n",
       "      <td>-0.5</td>\n",
       "      <td>Under-, Nightwear</td>\n",
       "      <td>Ladieswear</td>\n",
       "      <td>24.0</td>\n",
       "      <td>ACTIVE</td>\n",
       "      <td>19-25</td>\n",
       "    </tr>\n",
       "  </tbody>\n",
       "</table>\n",
       "</div>"
      ],
      "text/plain": [
       "  article_id                                        customer_id      t_dat  \\\n",
       "0  663713001  000058a12d5b43e67d225668fa1f8d618c13dc232df0ca... 2018-09-20   \n",
       "1  663713001  000058a12d5b43e67d225668fa1f8d618c13dc232df0ca... 2018-09-24   \n",
       "\n",
       "      price  month_sin  month_cos garment_group_name index_group_name   age  \\\n",
       "0  0.050831  -0.866025       -0.5  Under-, Nightwear       Ladieswear  24.0   \n",
       "1  0.050831  -0.866025       -0.5  Under-, Nightwear       Ladieswear  24.0   \n",
       "\n",
       "  club_member_status age_group  \n",
       "0             ACTIVE     19-25  \n",
       "1             ACTIVE     19-25  "
      ]
     },
     "execution_count": 7,
     "metadata": {},
     "output_type": "execute_result"
    }
   ],
   "source": [
    "df.head(2)"
   ]
  },
  {
   "cell_type": "code",
   "execution_count": 8,
   "metadata": {},
   "outputs": [
    {
     "data": {
      "text/plain": [
       "(31648066, 11)"
      ]
     },
     "execution_count": 8,
     "metadata": {},
     "output_type": "execute_result"
    }
   ],
   "source": [
    "df.shape"
   ]
  },
  {
   "cell_type": "markdown",
   "metadata": {},
   "source": [
    "## Train/Validate/Test split and Tensors"
   ]
  },
  {
   "cell_type": "code",
   "execution_count": 9,
   "metadata": {},
   "outputs": [
    {
     "data": {
      "text/plain": [
       "<torch._C.Generator at 0x2a3a152fdd0>"
      ]
     },
     "execution_count": 9,
     "metadata": {},
     "output_type": "execute_result"
    }
   ],
   "source": [
    "from sklearn.model_selection import train_test_split\n",
    "\n",
    "seed = 2024\n",
    "torch.manual_seed(seed)"
   ]
  },
  {
   "cell_type": "code",
   "execution_count": 10,
   "metadata": {},
   "outputs": [],
   "source": [
    "train_df, val_df = train_test_split(df, test_size=0.1, random_state=seed)"
   ]
  },
  {
   "cell_type": "code",
   "execution_count": 11,
   "metadata": {},
   "outputs": [
    {
     "data": {
      "text/plain": [
       "article_id            0\n",
       "customer_id           0\n",
       "t_dat                 0\n",
       "price                 0\n",
       "month_sin             0\n",
       "month_cos             0\n",
       "garment_group_name    0\n",
       "index_group_name      0\n",
       "age                   0\n",
       "club_member_status    0\n",
       "age_group             0\n",
       "dtype: int64"
      ]
     },
     "execution_count": 11,
     "metadata": {},
     "output_type": "execute_result"
    }
   ],
   "source": [
    "train_df.isnull().sum()"
   ]
  },
  {
   "cell_type": "code",
   "execution_count": 12,
   "metadata": {},
   "outputs": [
    {
     "name": "stdout",
     "output_type": "stream",
     "text": [
      "Training shape:  (28483259, 11)\n",
      "Validation shape:  (3164807, 11)\n"
     ]
    }
   ],
   "source": [
    "print(\"Training shape: \", train_df.shape)\n",
    "print(\"Validation shape: \", val_df.shape)"
   ]
  },
  {
   "cell_type": "code",
   "execution_count": 13,
   "metadata": {},
   "outputs": [],
   "source": [
    "# from torch.utils.data import Dataset, DataLoader\n",
    "# from sklearn.preprocessing import LabelEncoder\n",
    "\n",
    "\n",
    "# class CachedDataset(Dataset):\n",
    "#     def __init__(self, df):\n",
    "#         self.encoders = {}\n",
    "#         self.data = {}\n",
    "\n",
    "#         # Process each column based on its type\n",
    "#         for col in df.columns:\n",
    "#             # Get column data\n",
    "#             col_data = df[col].values\n",
    "\n",
    "#             # Handle different data types\n",
    "#             if pd.api.types.is_numeric_dtype(df[col]) or col in [\"article_id\"]:\n",
    "#                 # For numeric data, convert to float32\n",
    "#                 self.data[col] = torch.tensor(col_data.astype(np.float32))\n",
    "\n",
    "#             else:\n",
    "#                 print(\"Col: \", col)\n",
    "#                 # For categorical/string data, use label encoding\n",
    "#                 self.encoders[col] = LabelEncoder()\n",
    "#                 encoded_data = self.encoders[col].fit_transform(col_data)\n",
    "#                 self.data[col] = torch.tensor(encoded_data, dtype=torch.long)\n",
    "\n",
    "#     def __len__(self):\n",
    "#         return len(next(iter(self.data.values())))\n",
    "\n",
    "#     def __getitem__(self, idx):\n",
    "#         return {key: value[idx] for key, value in self.data.items()}\n",
    "\n",
    "#     def get_feature_dims(self):\n",
    "#         \"\"\"Return the number of unique values for each categorical feature\"\"\"\n",
    "#         feature_dims = {}\n",
    "#         for col, encoder in self.encoders.items():\n",
    "#             feature_dims[col] = len(encoder.classes_)\n",
    "#         return feature_dims"
   ]
  },
  {
   "cell_type": "code",
   "execution_count": 14,
   "metadata": {},
   "outputs": [],
   "source": [
    "from torch.utils.data import Dataset, DataLoader\n",
    "\n",
    "\n",
    "class CustomDataset(Dataset):\n",
    "    def __init__(self, df):\n",
    "        self.data = {col: torch.tensor(df[col].values) if pd.api.types.is_numeric_dtype(df[col]) else df[col].values for col in df.columns}\n",
    "\n",
    "    def __len__(self):\n",
    "        return len(next(iter(self.data.values())))\n",
    "\n",
    "    def __getitem__(self, idx):\n",
    "        return {key: value[idx] for key, value in self.data.items()}"
   ]
  },
  {
   "cell_type": "code",
   "execution_count": 15,
   "metadata": {},
   "outputs": [],
   "source": [
    "def custom_collate_fn(batch):\n",
    "    \"\"\"\n",
    "    Custom collate function to handle mixed-type datasets\n",
    "\n",
    "    Args:\n",
    "        batch (list): List of dictionaries from the dataset\n",
    "\n",
    "    Returns:\n",
    "        dict: A dictionary with tensors and arrays properly handled\n",
    "    \"\"\"\n",
    "    # Initialize dictionaries to collect data\n",
    "    collated_batch = {}\n",
    "\n",
    "    # Iterate through keys of the first item to get all column names\n",
    "    for key in batch[0].keys():\n",
    "        # Collect values for this key\n",
    "        values = [item[key] for item in batch]\n",
    "\n",
    "        # Check the type of the first value to determine how to process\n",
    "        if isinstance(values[0], torch.Tensor):\n",
    "            # If it's already a tensor, stack them\n",
    "            collated_batch[key] = torch.stack(values)\n",
    "        elif isinstance(values[0], np.ndarray):\n",
    "            # If it's a numpy array, convert to tensor or keep as array\n",
    "            if values[0].dtype in [np.float32, np.float64, np.int32, np.int64]:\n",
    "                collated_batch[key] = torch.tensor(values)\n",
    "            else:\n",
    "                collated_batch[key] = np.array(values)\n",
    "        else:\n",
    "            # For other types (like strings), keep as list or array\n",
    "            collated_batch[key] = np.array(values)\n",
    "\n",
    "    return collated_batch"
   ]
  },
  {
   "cell_type": "code",
   "execution_count": 26,
   "metadata": {},
   "outputs": [
    {
     "data": {
      "text/plain": [
       "{'article_id': array(['800800004', '770211001'], dtype=object),\n",
       " 'customer_id': array(['7169c8c204f8e37131bb13f05b31a0786e70d6789fa72af320bf245d7e4ccf74',\n",
       "        '0c6a37c6008e0740828502652ab3c7120b68d27a26fee734a9dee0f121997924'],\n",
       "       dtype=object),\n",
       " 't_dat': array(['2020-02-14T00:00:00.000000000', '2019-06-29T00:00:00.000000000'],\n",
       "       dtype='datetime64[ns]'),\n",
       " 'price': tensor([0.0169, 0.0190], dtype=torch.float64),\n",
       " 'month_sin': tensor([0.5000, 0.5000], dtype=torch.float64),\n",
       " 'month_cos': tensor([ 0.8660, -0.8660], dtype=torch.float64),\n",
       " 'garment_group_name': array(['Jersey Fancy', 'Dresses Ladies'], dtype=object),\n",
       " 'index_group_name': array(['Ladieswear', 'Ladieswear'], dtype=object),\n",
       " 'age': tensor([38., 23.], dtype=torch.float64),\n",
       " 'club_member_status': array(['ACTIVE', 'ACTIVE'], dtype=object),\n",
       " 'age_group': ['36-45', '19-25']\n",
       " Categories (8, object): ['0-18' < '19-25' < '26-35' < '36-45' < '46-55' < '56-65' < '66-80' < '80+']}"
      ]
     },
     "execution_count": 26,
     "metadata": {},
     "output_type": "execute_result"
    }
   ],
   "source": [
    "BATCH_SIZE = 2048  # 2048\n",
    "train_dataset = CustomDataset(train_df)\n",
    "train_dataset[0:2]"
   ]
  },
  {
   "cell_type": "code",
   "execution_count": 18,
   "metadata": {},
   "outputs": [],
   "source": [
    "user_id_list = train_df[\"customer_id\"].unique().tolist()\n",
    "item_id_list = train_df[\"article_id\"].unique().tolist()"
   ]
  },
  {
   "cell_type": "code",
   "execution_count": 19,
   "metadata": {},
   "outputs": [],
   "source": [
    "garment_group_list = train_df[\"garment_group_name\"].unique().tolist()\n",
    "index_group_list = train_df[\"index_group_name\"].unique().tolist()"
   ]
  },
  {
   "cell_type": "code",
   "execution_count": 28,
   "metadata": {},
   "outputs": [
    {
     "name": "stdout",
     "output_type": "stream",
     "text": [
      "Number of garment group: 21\n",
      "Number of index group: 5\n"
     ]
    }
   ],
   "source": [
    "print(f\"Number of garment group: {len(garment_group_list):,}\")\n",
    "print(f\"Number of index group: {len(index_group_list):,}\")"
   ]
  },
  {
   "cell_type": "code",
   "execution_count": 20,
   "metadata": {},
   "outputs": [
    {
     "name": "stdout",
     "output_type": "stream",
     "text": [
      "Number of transactions: 28,483,259\n",
      "Number of users: 1,332,386\n",
      "Number of items: 104,011\n",
      "['Jersey Fancy', 'Dresses Ladies', 'Socks and Tights', 'Swimwear', 'Under-, Nightwear', 'Blouses', 'Trousers', 'Accessories', 'Knitwear', 'Trousers Denim', 'Jersey Basic', 'Outdoor', 'Shirts', 'Shoes', 'Unknown', 'Special Offers', 'Shorts', 'Skirts', 'Dressed', 'Woven/Jersey/Knitted mix Baby', 'Dresses/Skirts girls']\n"
     ]
    }
   ],
   "source": [
    "print(f\"Number of transactions: {len(train_df):,}\")\n",
    "print(f\"Number of users: {len(user_id_list):,}\")\n",
    "print(f\"Number of items: {len(item_id_list):,}\")\n",
    "print(garment_group_list)"
   ]
  },
  {
   "cell_type": "markdown",
   "metadata": {},
   "source": [
    "## Two Tower Model\n",
    "\n",
    "- Query model: Generates a query representation given user and transaction features.\n",
    "- Candidate model: Generates an item representation given item features.\n",
    "\n",
    "**Both models produce embeddings that live in the same embedding space.**\n",
    "\n",
    "\n",
    "For the query embedding I will use:\n",
    "- `customer_id`: ID of the customer.\n",
    "- `age`: age of the customer at the time of purchase.\n",
    "- `month_sin`, `month_cos`: time of year the purchase was made.\n",
    "\n",
    "For the candidate embedding I will use:\n",
    "- `article_id`: ID of the item.\n",
    "- `garment_group_name`: type of garment.\n",
    "- `index_group_name`: menswear/ladieswear etc.\n",
    "\n",
    "\n",
    "\n"
   ]
  },
  {
   "cell_type": "code",
   "execution_count": 21,
   "metadata": {},
   "outputs": [
    {
     "name": "stdout",
     "output_type": "stream",
     "text": [
      "Using cpu device\n"
     ]
    }
   ],
   "source": [
    "device = \"cuda\" if torch.cuda.is_available() else \"cpu\"\n",
    "print(f\"Using {device} device\")"
   ]
  },
  {
   "cell_type": "code",
   "execution_count": 22,
   "metadata": {},
   "outputs": [],
   "source": [
    "from torch import nn\n",
    "from typing import List"
   ]
  },
  {
   "cell_type": "code",
   "execution_count": 23,
   "metadata": {},
   "outputs": [],
   "source": [
    "class StringLookup:\n",
    "\n",
    "    def __init__(self, vocabulary: List[str], mask_token=None):\n",
    "        self.vocab = {word: idx for idx, word in enumerate(vocabulary)}\n",
    "        self.vocab[\"<UNK>\"] = len(self.vocab)\n",
    "        self.mask_token = mask_token\n",
    "\n",
    "    def __call__(self, inputs: np.ndarray) -> torch.Tensor:\n",
    "        # Convert string inputs to indices\n",
    "        indices = [self.vocab.get(x, self.vocab[\"<UNK>\"]) for x in inputs]\n",
    "        return torch.tensor(indices, dtype=torch.long)\n",
    "\n",
    "    def __len__(self):\n",
    "        return len(self.vocab)\n",
    "\n",
    "\n",
    "class StringEmbedding(nn.Module):\n",
    "    def __init__(self, user_id_list: List[str], embedding_dimension: int):\n",
    "        super().__init__()\n",
    "\n",
    "        # Create the vocabulary space\n",
    "        self.string_lookup = StringLookup(user_id_list)\n",
    "\n",
    "        # The real embeddings\n",
    "        self.embedding = nn.Embedding(num_embeddings=len(self.string_lookup), embedding_dim=embedding_dimension)\n",
    "\n",
    "    def forward(self, user_ids: torch.Tensor) -> torch.Tensor:\n",
    "        # Convert user IDs to indices\n",
    "        return self.embedding(self.string_lookup(user_ids))\n",
    "\n",
    "    # def forward(self, user_ids):\n",
    "    #     user_indices = torch.tensor([self.user_to_index.get(user_id, self.user_to_index[\"<UNK>\"]) for user_id in user_ids], device=self.embedding.weight.device)\n",
    "    #     return self.embedding(user_indices)"
   ]
  },
  {
   "cell_type": "code",
   "execution_count": 24,
   "metadata": {},
   "outputs": [],
   "source": [
    "from typing import Dict\n",
    "\n",
    "\n",
    "class QueryTower(nn.Module):\n",
    "\n",
    "    def __init__(self, user_id_list: List[str], embedding_dimension: int):\n",
    "        super().__init__()\n",
    "\n",
    "        self.user_embedding = StringEmbedding(user_id_list, embedding_dimension)\n",
    "        self.age_normalization = nn.BatchNorm1d(1)\n",
    "\n",
    "        self.dense_nn = nn.Sequential(nn.Linear(in_features=embedding_dimension + 3, out_features=embedding_dimension), nn.Dropout(0.2), nn.ReLU(), nn.Linear(embedding_dimension, embedding_dimension))\n",
    "\n",
    "    def forward(self, inputs: Dict[str, torch.Tensor]) -> torch.Tensor:\n",
    "        user_embedding = self.user_embedding(inputs[\"customer_id\"])\n",
    "        normalized_age = self.age_normalization(inputs[\"age\"].float().unsqueeze(1))\n",
    "        month_sin = inputs[\"month_sin\"].float().unsqueeze(1)\n",
    "        month_cos = inputs[\"month_cos\"].float().unsqueeze(1)\n",
    "\n",
    "        concatenated_inputs = torch.cat([user_embedding, normalized_age, month_sin, month_cos], dim=1)\n",
    "\n",
    "        outputs = self.dense_nn(concatenated_inputs)\n",
    "        return outputs"
   ]
  },
  {
   "cell_type": "code",
   "execution_count": 27,
   "metadata": {},
   "outputs": [
    {
     "data": {
      "text/plain": [
       "torch.Size([2, 128])"
      ]
     },
     "execution_count": 27,
     "metadata": {},
     "output_type": "execute_result"
    }
   ],
   "source": [
    "QueryTower(user_id_list, 128)(train_dataset[0:2]).shape"
   ]
  },
  {
   "cell_type": "markdown",
   "metadata": {},
   "source": [
    "The candidate model is very similar to the query model.\n",
    "\n",
    "it has two categorical features which will be one-hot encode."
   ]
  },
  {
   "cell_type": "code",
   "execution_count": 29,
   "metadata": {},
   "outputs": [],
   "source": [
    "class ItemTower(nn.Module):\n",
    "\n",
    "    def __init__(self, item_id_list: List[str], garment_group_list: List[str], index_group_list: List[str], embedding_dimension: int):\n",
    "        super().__init__()\n",
    "        self.item_embedding = StringEmbedding(item_id_list, embedding_dimension)\n",
    "\n",
    "        # Garment group setup\n",
    "        self.garment_group_lookup = StringLookup(vocabulary=garment_group_list)\n",
    "        self.garment_group_size = len(garment_group_list)\n",
    "\n",
    "        # Index group setup\n",
    "        self.index_group_lookup = StringLookup(vocabulary=index_group_list)\n",
    "        self.index_group_size = len(index_group_list)\n",
    "\n",
    "        input_dim = embedding_dimension + self.garment_group_size + self.index_group_size\n",
    "        self.dense_nn = nn.Sequential(nn.Linear(input_dim, embedding_dimension), nn.Dropout(0.2), nn.ReLU(), nn.Linear(embedding_dimension, embedding_dimension))\n",
    "\n",
    "    def forward(self, inputs: Dict[str, torch.Tensor]) -> torch.Tensor:\n",
    "\n",
    "        # Convert article_id strings to embeddings\n",
    "        item_embedding = self.item_embedding(inputs[\"article_id\"])\n",
    "\n",
    "        garment_indices = self.garment_group_lookup(inputs[\"garment_group_name\"])\n",
    "        garment_one_hot = torch.zeros((garment_indices.size(0), self.garment_group_size), dtype=torch.float)\n",
    "        garment_one_hot.scatter_(1, garment_indices.unsqueeze(1), 1.0)\n",
    "\n",
    "        # Convert index group strings to one-hot encodings\n",
    "        index_indices = self.index_group_lookup(inputs[\"index_group_name\"])\n",
    "        index_one_hot = torch.zeros((index_indices.size(0), self.index_group_size), dtype=torch.float)\n",
    "        index_one_hot.scatter_(1, index_indices.unsqueeze(1), 1.0)\n",
    "\n",
    "        # Concatenate all features\n",
    "        concatenated = torch.cat([item_embedding, garment_one_hot, index_one_hot], dim=1)\n",
    "\n",
    "        outputs = self.dense_nn(concatenated)\n",
    "\n",
    "        return outputs"
   ]
  },
  {
   "cell_type": "code",
   "execution_count": 30,
   "metadata": {},
   "outputs": [
    {
     "data": {
      "text/plain": [
       "torch.Size([2, 128])"
      ]
     },
     "execution_count": 30,
     "metadata": {},
     "output_type": "execute_result"
    }
   ],
   "source": [
    "ItemTower(item_id_list, garment_group_list, index_group_list, 128)(train_dataset[0:2]).shape"
   ]
  },
  {
   "cell_type": "code",
   "execution_count": 31,
   "metadata": {},
   "outputs": [],
   "source": [
    "# Create dataset of unique items\n",
    "unique_items_df = train_df.drop_duplicates(\"article_id\")[[\"article_id\", \"garment_group_name\", \"index_group_name\"]]"
   ]
  },
  {
   "cell_type": "code",
   "execution_count": 32,
   "metadata": {},
   "outputs": [],
   "source": [
    "unique_items_df[\"article_id\"] = unique_items_df[\"article_id\"].astype(np.int64)"
   ]
  },
  {
   "cell_type": "code",
   "execution_count": 33,
   "metadata": {},
   "outputs": [],
   "source": [
    "unique_items_dataset = CustomDataset(unique_items_df)\n",
    "unique_items_loader = DataLoader(unique_items_dataset, batch_size=BATCH_SIZE, shuffle=False)\n",
    "\n",
    "\n",
    "# Train and evaluate\n",
    "# train_and_evaluate(model=model, train_loader=train_loader, val_loader=val_loader, unique_items_loader=unique_items_loader, num_epochs=10)"
   ]
  },
  {
   "cell_type": "code",
   "execution_count": 34,
   "metadata": {},
   "outputs": [
    {
     "data": {
      "text/plain": [
       "{'article_id': tensor([800800004, 770211001]),\n",
       " 'garment_group_name': array(['Jersey Fancy', 'Dresses Ladies'], dtype=object),\n",
       " 'index_group_name': array(['Ladieswear', 'Ladieswear'], dtype=object)}"
      ]
     },
     "execution_count": 34,
     "metadata": {},
     "output_type": "execute_result"
    }
   ],
   "source": [
    "unique_items_dataset[0:2]"
   ]
  },
  {
   "cell_type": "code",
   "execution_count": 35,
   "metadata": {},
   "outputs": [],
   "source": [
    "import torch.nn.functional as F\n",
    "from typing import Dict, Tuple\n",
    "from tqdm import tqdm\n",
    "\n",
    "\n",
    "class TwoTowerModel(nn.Module):\n",
    "    def __init__(self, query_tower: nn.Module, item_tower: nn.Module):\n",
    "        super().__init__()\n",
    "        self.query_tower = query_tower\n",
    "        self.item_tower = item_tower\n",
    "\n",
    "    def forward(self, batch: Dict) -> Tuple[torch.Tensor, torch.Tensor]:\n",
    "        query_embeddings = self.query_tower(batch)\n",
    "        item_embeddings = self.item_tower(batch)\n",
    "\n",
    "        # Normalize embeddings\n",
    "        query_embeddings = F.normalize(query_embeddings, p=2, dim=1)\n",
    "        item_embeddings = F.normalize(item_embeddings, p=2, dim=1)\n",
    "\n",
    "        return query_embeddings, item_embeddings"
   ]
  },
  {
   "cell_type": "code",
   "execution_count": 36,
   "metadata": {},
   "outputs": [],
   "source": [
    "def compute_top_100_accuracy(model, validation_loader, candidate_embeddings):\n",
    "    model.eval()\n",
    "    correct_predictions = 0\n",
    "    total_predictions = 0\n",
    "\n",
    "    with torch.no_grad():\n",
    "        for user_ids, true_item_ids in validation_loader:\n",
    "            # Compute user embeddings\n",
    "            user_embeddings, _ = model(user_ids)\n",
    "\n",
    "            # Compute similarity scores with candidate items\n",
    "            scores = torch.matmul(user_embeddings, candidate_embeddings.t())\n",
    "\n",
    "            # Get top 100 items for each user\n",
    "            _, top_k_indices = torch.topk(scores, k=100)\n",
    "\n",
    "            # Check if true item is in top 100 predictions\n",
    "            for i, true_item_id in enumerate(true_item_ids):\n",
    "                if true_item_id in top_k_indices[i]:\n",
    "                    correct_predictions += 1\n",
    "                total_predictions += 1\n",
    "\n",
    "    top_100_accuracy = correct_predictions / total_predictions\n",
    "    return top_100_accuracy\n",
    "\n",
    "\n",
    "def compute_loss(user_embeddings, item_embeddings, lambda_reg=1e-6):\n",
    "    # Compute similarity between query and item embeddings\n",
    "    similarity = torch.matmul(user_embeddings, item_embeddings.t())  # [batch_size, num_candidates]\n",
    "\n",
    "    # For contrastive loss (LogSumExp)\n",
    "    epsilon = 1e-8\n",
    "    logits = similarity - similarity.diagonal().unsqueeze(1)\n",
    "    # logger.debug(\n",
    "    #     f\"Similarity: {similarity}\",\n",
    "    # )\n",
    "    # logger.debug(\n",
    "    #     f\"Logits: {logits}\",\n",
    "    # )\n",
    "\n",
    "    loss = torch.logsumexp(logits, dim=1).mean()\n",
    "\n",
    "    # Regularization\n",
    "    reg_loss = (user_embeddings.norm(2) ** 2 + item_embeddings.norm(2) ** 2) * lambda_reg\n",
    "    reg_loss = reg_loss.item()\n",
    "    return loss, reg_loss\n",
    "\n",
    "\n",
    "def compute_loss2(query_embeddings, candidates_embeddings):\n",
    "    \"\"\"\n",
    "    Computes a loss similar to TensorFlow's Factorized Top-K retrieval loss\n",
    "\n",
    "    Args:\n",
    "    - batch: Current batch of data\n",
    "    - candidates_embeddings: Precomputed embeddings for all candidate items\n",
    "\n",
    "    Returns:\n",
    "    - Loss value\n",
    "    \"\"\"\n",
    "\n",
    "    # Compute similarity between query embeddings and all candidate embeddings\n",
    "    # This is similar to the top-k metric computation in TensorFlow\n",
    "    similarities = torch.matmul(query_embeddings, candidates_embeddings.t())\n",
    "\n",
    "    # Create labels (diagonal matrix representing positive pairs)\n",
    "    labels = torch.arange(len(similarities)).to(similarities.device)\n",
    "\n",
    "    # Cross entropy loss\n",
    "    loss = nn.functional.cross_entropy(similarities, labels)\n",
    "\n",
    "    return loss\n",
    "\n",
    "\n",
    "def compute_loss3(user_embeddings, item_embeddings):\n",
    "    # Compute similarity between query and item embeddings\n",
    "    # similarities = torch.matmul(user_embeddings, item_embeddings.t())  # [batch_size, num_candidates]\n",
    "    similarities = torch.nn.functional.cosine_similarity(user_embeddings.unsqueeze(1), item_embeddings.unsqueeze(0), dim=-1)\n",
    "\n",
    "    labels = torch.arange(len(similarities)).to(similarities.device)\n",
    "\n",
    "    # Cross-entropy loss\n",
    "    loss = torch.nn.functional.cross_entropy(input=similarities, target=labels, reduction=\"none\")\n",
    "\n",
    "    # logger.debug(\n",
    "    #     f\"Similarity: {similarity}\",\n",
    "    # )\n",
    "    # logger.debug(\n",
    "    #     f\"Logits: {logits}\",\n",
    "    # )\n",
    "\n",
    "    return loss"
   ]
  },
  {
   "cell_type": "code",
   "execution_count": 44,
   "metadata": {},
   "outputs": [],
   "source": [
    "class RetrievalLoss(nn.Module):\n",
    "\n",
    "    def __init__(self, temperature: float = None):\n",
    "        super(RetrievalLoss, self).__init__()\n",
    "        self.temperature = temperature\n",
    "\n",
    "    def forward(self, query_embeddings, item_embeddings):\n",
    "\n",
    "        # Calculate dot product (similarity scores) between query and candidates\n",
    "        similarities = torch.matmul(query_embeddings, item_embeddings.t())  # [batch_size, num_items]\n",
    "\n",
    "        if self.temperature is not None:\n",
    "            similarities /= self.temperature\n",
    "\n",
    "        num_queries = similarities.shape[0]\n",
    "        # num_candidates = similarities.shape[1]\n",
    "\n",
    "        labels = torch.eye(num_queries)  # [batch_size]\n",
    "\n",
    "        loss_fn = nn.CrossEntropyLoss(reduce=\"none\")\n",
    "\n",
    "        loss = loss_fn(similarities, labels)\n",
    "        return loss"
   ]
  },
  {
   "cell_type": "code",
   "execution_count": 31,
   "metadata": {},
   "outputs": [],
   "source": [
    "def evaluate_top_k(model: TwoTowerModel, val_loader: DataLoader, item_embeddings: torch.Tensor, item_ids: np.ndarray, k: int = 100, device: torch.device = None) -> float:\n",
    "    \"\"\"Evaluate the model using top-k accuracy.\"\"\"\n",
    "    model.eval()\n",
    "    total_hits = 0\n",
    "    total_samples = 0\n",
    "\n",
    "    with torch.no_grad():\n",
    "        for batch in tqdm(val_loader, desc=\"Evaluating\"):\n",
    "            # Get query embeddings\n",
    "            query_embeddings = model.query_tower(batch[\"query\"])\n",
    "            query_embeddings = F.normalize(query_embeddings, p=2, dim=1)\n",
    "\n",
    "            # Compute similarities with all items\n",
    "            similarities = torch.matmul(query_embeddings, item_embeddings.t())\n",
    "\n",
    "            # Get top-k items\n",
    "            _, top_k_indices = similarities.topk(k)\n",
    "\n",
    "            # Get actual item IDs that were purchased\n",
    "            actual_items = batch[\"candidate\"][\"article_id\"]\n",
    "\n",
    "            # Check if actual items are in top-k predictions\n",
    "            for actual_item, top_k_idx in zip(actual_items, top_k_indices):\n",
    "                predicted_items = item_ids[top_k_idx.cpu()]\n",
    "                if actual_item in predicted_items:\n",
    "                    total_hits += 1\n",
    "                total_samples += 1\n",
    "\n",
    "    return total_hits / total_samples"
   ]
  },
  {
   "cell_type": "code",
   "execution_count": null,
   "metadata": {},
   "outputs": [],
   "source": [
    "import logging\n",
    "\n",
    "logging.basicConfig(level=logging.DEBUG, format=\"%(asctime)s - %(levelname)s - %(message)s\")\n",
    "logger = logging.getLogger(\"log.log\")\n",
    "\n",
    "file_handler = logging.FileHandler(\"notebook.log\")\n",
    "file_handler.setLevel(logging.DEBUG)\n",
    "file_handler.setFormatter(logging.Formatter(\"%(asctime)s - %(levelname)s - %(message)s\"))\n",
    "logger.addHandler(file_handler)\n",
    "file_handler.setLevel(logging.DEBUG)\n",
    "\n",
    "logger.propagate = False"
   ]
  },
  {
   "cell_type": "code",
   "execution_count": 33,
   "metadata": {},
   "outputs": [],
   "source": [
    "def prepare_candidates_embeddings(model: TwoTowerModel, item_dataloader):\n",
    "    \"\"\"\n",
    "    Precompute embeddings for all candidate items\n",
    "\n",
    "    Args:\n",
    "    - model: Two Tower model\n",
    "    - item_dataloader: DataLoader with unique items\n",
    "\n",
    "    Returns:\n",
    "    - Tensor of candidate embeddings\n",
    "    \"\"\"\n",
    "    model.eval()\n",
    "    with torch.no_grad():\n",
    "        candidate_embeddings = []\n",
    "        for batch in item_dataloader:\n",
    "            item_embeddings = model.item_tower(batch)\n",
    "            candidate_embeddings.append(item_embeddings)\n",
    "\n",
    "        return torch.cat(candidate_embeddings)"
   ]
  },
  {
   "cell_type": "code",
   "execution_count": null,
   "metadata": {},
   "outputs": [],
   "source": [
    "def train_model(train_dataloader: DataLoader, item_dataloader: DataLoader, model: TwoTowerModel, learning_rate: float, weight_decay: float, num_epochs: int):\n",
    "    optimizer = torch.optim.AdamW(model.parameters(), lr=learning_rate, weight_decay=weight_decay)\n",
    "    loss_history = []\n",
    "    reg_loss_history = []\n",
    "    print_every = 1000\n",
    "\n",
    "    # candidates_embeddings = prepare_candidates_embeddings(model, item_dataloader)\n",
    "\n",
    "    for epoch in range(num_epochs):\n",
    "        model.train()\n",
    "        train_losses = []\n",
    "        train_reg_losses = []\n",
    "\n",
    "        bformat = \"{l_bar}{bar}| {n_fmt}/{total_fmt} {rate_fmt}{postfix}\"\n",
    "        with tqdm(total=len(train_dataloader), bar_format=bformat) as pbar:\n",
    "\n",
    "            for batch_idx, train_batch in enumerate(train_dataloader):\n",
    "                # train_batch = train_batch.to(device)\n",
    "\n",
    "                # for key, val in train_batch.items():\n",
    "                #     if isinstance(val, torch.Tensor):\n",
    "                #         is_nan = torch.any(torch.isnan(val))\n",
    "                #         logger.debug(f\"Col (T) :{key} is Nan? {is_nan}\")\n",
    "                #     else:\n",
    "                #         if isinstance(val.dtype, np.dtypes.StrDType):\n",
    "                #             empty_mask = val == \"\"\n",
    "                #             is_nan = np.any(empty_mask)\n",
    "                #         elif isinstance(val.dtype, np.dtypes.DateTime64DType):\n",
    "                #             continue\n",
    "                #         else:\n",
    "                #             is_nan = np.isnan(val)\n",
    "                #         logger.debug(f\"Col (NP) :{key} is Nan? {is_nan}\")\n",
    "\n",
    "                optimizer.zero_grad()\n",
    "\n",
    "                query_embeddings, item_embeddings = model(train_batch)\n",
    "\n",
    "                # try:\n",
    "                #     assert not torch.any(torch.isnan(query_embeddings)), \"NaN values detected in query_embeddings!\"\n",
    "                # except:\n",
    "                #     logger.error(\"NaN values detected in query_embeddings!\")\n",
    "                #     raise ValueError(\"query_embeddings should not be NaN\")\n",
    "                # try:\n",
    "                #     assert not torch.any(torch.isnan(item_embeddings)), \"NaN values detected in item_embeddings!\"\n",
    "                # except:\n",
    "                #     logger.error(\"NaN values detected in item_embeddings!\")\n",
    "                #     raise ValueError(\"item_embeddings should not be NaN\")\n",
    "\n",
    "                # print(query_embeddings.cpu())\n",
    "                # train_loss, reg_loss = compute_loss(query_embeddings, candidates_embeddings)\n",
    "                # loss = train_loss + reg_loss\n",
    "\n",
    "                loss = compute_loss3(query_embeddings, item_embeddings)\n",
    "\n",
    "                # logger.debug(f\"Batch {batch_idx}, Loss: {train_loss.item()}\")\n",
    "                # logger.debug(f\"User Embeddings: {query_embeddings}\")\n",
    "                # logger.debug(f\"Item Embeddings: {item_embeddings}\")\n",
    "\n",
    "                # try:\n",
    "                #     assert not torch.any(torch.isnan(loss)), \"NaN values detected in train_loss!\"\n",
    "                # except:\n",
    "                #     logger.error(\"NaN values detected in train_loss!\")\n",
    "                #     raise ValueError(\"train_loss should not be NaN\")\n",
    "\n",
    "                loss.backward()\n",
    "                # for param in model.parameters():\n",
    "\n",
    "                #     if param.grad is not None:\n",
    "                #         logger.debug(f\"Max gradient for name - {param.names} - device {param.get_device()}- {param} : {param.grad.max()}\")\n",
    "                # torch.nn.utils.clip_grad_norm_(model.parameters(), max_norm=1.0)\n",
    "                optimizer.step()\n",
    "                train_losses.append(loss.item())\n",
    "                # train_losses.append(train_loss.item())\n",
    "                # train_reg_losses.append(reg_loss)\n",
    "\n",
    "                pbar.set_description(f\"EPOCH: {epoch:02d} \")\n",
    "                pbar.set_postfix_str(\" LOSS: {:.4f} \".format(loss.item()))\n",
    "                pbar.update()\n",
    "\n",
    "                if batch_idx % print_every == 0:\n",
    "                    print(\"Training: Batch {0}/{1}. Loss of {2:.4f}\".format(batch_idx + 1, len(train_dataloader), loss.item()))\n",
    "\n",
    "        # Last batch values\n",
    "        print(\"Training: Batch {0}/{1}. Loss of {2:.4f}\".format(batch_idx + 1, len(train_dataloader), train_losses[-1]))\n",
    "\n",
    "        torch.save(model.state_dict(), f\"models/training/Epoch_n_{epoch + 1}.pkl\")\n",
    "\n",
    "        mean_train_losss = np.mean(train_losses)\n",
    "        # mean_train_reg_losss = np.mean(train_reg_losses)\n",
    "        loss_history.append(mean_train_losss)\n",
    "        # reg_loss_history.append(mean_train_reg_losss)\n",
    "\n",
    "        print(\"Epoch {0}/{1}. Average Loss of {2:.4f} -\".format(epoch + 1, num_epochs, mean_train_losss))\n",
    "\n",
    "    return model, loss_history, reg_loss_history"
   ]
  },
  {
   "cell_type": "code",
   "execution_count": 38,
   "metadata": {},
   "outputs": [],
   "source": [
    "def train_model2(train_dataloader: DataLoader, item_dataloader: DataLoader, model: TwoTowerModel, learning_rate: float, weight_decay: float, num_epochs: int):\n",
    "    optimizer = torch.optim.AdamW(model.parameters(), lr=learning_rate, weight_decay=weight_decay)\n",
    "    loss_history = []\n",
    "    reg_loss_history = []\n",
    "    print_every = 1000\n",
    "\n",
    "    retrieval_loss_fn = RetrievalLoss()\n",
    "    for epoch in range(num_epochs):\n",
    "        model.train()\n",
    "        train_losses = []\n",
    "\n",
    "        bformat = \"{l_bar}{bar}| {n_fmt}/{total_fmt} {rate_fmt}{postfix}\"\n",
    "        with tqdm(total=len(train_dataloader), bar_format=bformat) as pbar:\n",
    "\n",
    "            for batch_idx, train_batch in enumerate(train_dataloader):\n",
    "\n",
    "                optimizer.zero_grad()\n",
    "\n",
    "                query_embeddings, item_embeddings = model(train_batch)\n",
    "\n",
    "                loss = retrieval_loss_fn(query_embeddings, item_embeddings)\n",
    "\n",
    "                loss.backward()\n",
    "\n",
    "                optimizer.step()\n",
    "                train_losses.append(loss.item())\n",
    "\n",
    "                pbar.set_description(f\"EPOCH: {epoch:02d} \")\n",
    "                pbar.set_postfix_str(\" LOSS: {:.4f} \".format(train_losses[-1]))\n",
    "                pbar.update()\n",
    "\n",
    "                if batch_idx % print_every == 0:\n",
    "                    print(\"Training: Batch {0}/{1}. Loss of {2:.4f}\".format(batch_idx + 1, len(train_dataloader), train_losses[-1]))\n",
    "\n",
    "        # Last batch values\n",
    "        print(\"Training: Batch {0}/{1}. Loss of {2:.4f}\".format(batch_idx + 1, len(train_dataloader), train_losses[-1]))\n",
    "\n",
    "        torch.save(model.state_dict(), f\"models/training/Epoch_n_{epoch + 1}.pkl\")\n",
    "\n",
    "        mean_train_losss = np.mean(train_losses)\n",
    "        loss_history.append(mean_train_losss)\n",
    "\n",
    "        print(\"Epoch {0}/{1}. Average Loss of {2:.4f} -\".format(epoch + 1, num_epochs, mean_train_losss))\n",
    "\n",
    "    return model, loss_history, reg_loss_history"
   ]
  },
  {
   "cell_type": "code",
   "execution_count": 39,
   "metadata": {},
   "outputs": [
    {
     "data": {
      "text/plain": [
       "TwoTowerModel(\n",
       "  (query_tower): QueryTower(\n",
       "    (user_embedding): StringEmbedding(\n",
       "      (embedding): Embedding(1332387, 16)\n",
       "    )\n",
       "    (age_normalization): BatchNorm1d(1, eps=1e-05, momentum=0.1, affine=True, track_running_stats=True)\n",
       "    (dense_nn): Sequential(\n",
       "      (0): Linear(in_features=19, out_features=16, bias=True)\n",
       "      (1): Dropout(p=0.2, inplace=False)\n",
       "      (2): ReLU()\n",
       "      (3): Linear(in_features=16, out_features=16, bias=True)\n",
       "    )\n",
       "  )\n",
       "  (item_tower): ItemTower(\n",
       "    (item_embedding): StringEmbedding(\n",
       "      (embedding): Embedding(104012, 16)\n",
       "    )\n",
       "    (dense_nn): Sequential(\n",
       "      (0): Linear(in_features=42, out_features=16, bias=True)\n",
       "      (1): Dropout(p=0.2, inplace=False)\n",
       "      (2): ReLU()\n",
       "      (3): Linear(in_features=16, out_features=16, bias=True)\n",
       "    )\n",
       "  )\n",
       ")"
      ]
     },
     "execution_count": 39,
     "metadata": {},
     "output_type": "execute_result"
    }
   ],
   "source": [
    "embedding_dimension = 16\n",
    "model = TwoTowerModel(\n",
    "    query_tower=QueryTower(user_id_list, embedding_dimension=embedding_dimension), item_tower=ItemTower(item_id_list, garment_group_list, index_group_list, embedding_dimension=embedding_dimension)\n",
    ")\n",
    "model"
   ]
  },
  {
   "cell_type": "code",
   "execution_count": 40,
   "metadata": {},
   "outputs": [],
   "source": [
    "learning_rate = 1e-2\n",
    "weight_decay = 1e-3\n",
    "num_epochs = 5"
   ]
  },
  {
   "cell_type": "code",
   "execution_count": 45,
   "metadata": {},
   "outputs": [],
   "source": [
    "BATCH_SIZE = 2048  # 2048\n",
    "\n",
    "# Create datasets\n",
    "train_dataset = CustomDataset(train_df)\n",
    "val_dataset = CustomDataset(val_df)\n",
    "\n",
    "# Create DataLoaders\n",
    "train_loader = DataLoader(train_dataset, batch_size=BATCH_SIZE, shuffle=True, num_workers=0, collate_fn=custom_collate_fn)\n",
    "\n",
    "val_loader = DataLoader(val_dataset, batch_size=BATCH_SIZE, shuffle=False, num_workers=0, collate_fn=custom_collate_fn)"
   ]
  },
  {
   "cell_type": "code",
   "execution_count": 46,
   "metadata": {},
   "outputs": [
    {
     "name": "stderr",
     "output_type": "stream",
     "text": [
      "EPOCH: 00 :   0%|          | 1/13908  6.61s/it,  LOSS: 7.5845 "
     ]
    },
    {
     "name": "stdout",
     "output_type": "stream",
     "text": [
      "Training: Batch 1/13908. Loss of 7.5845\n"
     ]
    },
    {
     "name": "stderr",
     "output_type": "stream",
     "text": [
      "EPOCH: 00 :   7%|▋         | 1001/13908  3.09it/s,  LOSS: 7.3448 "
     ]
    },
    {
     "name": "stdout",
     "output_type": "stream",
     "text": [
      "Training: Batch 1001/13908. Loss of 7.3448\n"
     ]
    },
    {
     "name": "stderr",
     "output_type": "stream",
     "text": [
      "EPOCH: 00 :  14%|█▍        | 2001/13908  3.15it/s,  LOSS: 7.2762 "
     ]
    },
    {
     "name": "stdout",
     "output_type": "stream",
     "text": [
      "Training: Batch 2001/13908. Loss of 7.2762\n"
     ]
    },
    {
     "name": "stderr",
     "output_type": "stream",
     "text": [
      "EPOCH: 00 :  22%|██▏       | 3001/13908  3.33it/s,  LOSS: 7.2789 "
     ]
    },
    {
     "name": "stdout",
     "output_type": "stream",
     "text": [
      "Training: Batch 3001/13908. Loss of 7.2789\n"
     ]
    },
    {
     "name": "stderr",
     "output_type": "stream",
     "text": [
      "EPOCH: 00 :  29%|██▉       | 4001/13908  3.24it/s,  LOSS: 7.2764 "
     ]
    },
    {
     "name": "stdout",
     "output_type": "stream",
     "text": [
      "Training: Batch 4001/13908. Loss of 7.2764\n"
     ]
    },
    {
     "name": "stderr",
     "output_type": "stream",
     "text": [
      "EPOCH: 00 :  36%|███▌      | 5001/13908  3.02it/s,  LOSS: 7.2486 "
     ]
    },
    {
     "name": "stdout",
     "output_type": "stream",
     "text": [
      "Training: Batch 5001/13908. Loss of 7.2486\n"
     ]
    },
    {
     "name": "stderr",
     "output_type": "stream",
     "text": [
      "EPOCH: 00 :  43%|████▎     | 6001/13908  3.39it/s,  LOSS: 7.2676 "
     ]
    },
    {
     "name": "stdout",
     "output_type": "stream",
     "text": [
      "Training: Batch 6001/13908. Loss of 7.2676\n"
     ]
    },
    {
     "name": "stderr",
     "output_type": "stream",
     "text": [
      "EPOCH: 00 :  50%|█████     | 7001/13908  3.34it/s,  LOSS: 7.2508 "
     ]
    },
    {
     "name": "stdout",
     "output_type": "stream",
     "text": [
      "Training: Batch 7001/13908. Loss of 7.2508\n"
     ]
    },
    {
     "name": "stderr",
     "output_type": "stream",
     "text": [
      "EPOCH: 00 :  58%|█████▊    | 8001/13908  3.36it/s,  LOSS: 7.2447 "
     ]
    },
    {
     "name": "stdout",
     "output_type": "stream",
     "text": [
      "Training: Batch 8001/13908. Loss of 7.2447\n"
     ]
    },
    {
     "name": "stderr",
     "output_type": "stream",
     "text": [
      "EPOCH: 00 :  65%|██████▍   | 9001/13908  3.50it/s,  LOSS: 7.2565 "
     ]
    },
    {
     "name": "stdout",
     "output_type": "stream",
     "text": [
      "Training: Batch 9001/13908. Loss of 7.2565\n"
     ]
    },
    {
     "name": "stderr",
     "output_type": "stream",
     "text": [
      "EPOCH: 00 :  72%|███████▏  | 10001/13908  3.09it/s,  LOSS: 7.2557 "
     ]
    },
    {
     "name": "stdout",
     "output_type": "stream",
     "text": [
      "Training: Batch 10001/13908. Loss of 7.2557\n"
     ]
    },
    {
     "name": "stderr",
     "output_type": "stream",
     "text": [
      "EPOCH: 00 :  79%|███████▉  | 11001/13908  3.47it/s,  LOSS: 7.2327 "
     ]
    },
    {
     "name": "stdout",
     "output_type": "stream",
     "text": [
      "Training: Batch 11001/13908. Loss of 7.2327\n"
     ]
    },
    {
     "name": "stderr",
     "output_type": "stream",
     "text": [
      "EPOCH: 00 :  86%|████████▋ | 12001/13908  3.11it/s,  LOSS: 7.2424 "
     ]
    },
    {
     "name": "stdout",
     "output_type": "stream",
     "text": [
      "Training: Batch 12001/13908. Loss of 7.2424\n"
     ]
    },
    {
     "name": "stderr",
     "output_type": "stream",
     "text": [
      "EPOCH: 00 :  93%|█████████▎| 13001/13908  3.51it/s,  LOSS: 7.2400 "
     ]
    },
    {
     "name": "stdout",
     "output_type": "stream",
     "text": [
      "Training: Batch 13001/13908. Loss of 7.2400\n"
     ]
    },
    {
     "name": "stderr",
     "output_type": "stream",
     "text": [
      "EPOCH: 00 : 100%|██████████| 13908/13908  3.13it/s,  LOSS: 7.0570 \n"
     ]
    },
    {
     "name": "stdout",
     "output_type": "stream",
     "text": [
      "Training: Batch 13908/13908. Loss of 7.0570\n",
      "Epoch 1/5. Average Loss of 7.2692 -\n"
     ]
    },
    {
     "name": "stderr",
     "output_type": "stream",
     "text": [
      "EPOCH: 01 :   0%|          | 1/13908  2.67s/it,  LOSS: 7.2277 "
     ]
    },
    {
     "name": "stdout",
     "output_type": "stream",
     "text": [
      "Training: Batch 1/13908. Loss of 7.2277\n"
     ]
    },
    {
     "name": "stderr",
     "output_type": "stream",
     "text": [
      "EPOCH: 01 :   7%|▋         | 1001/13908  3.44it/s,  LOSS: 7.2350 "
     ]
    },
    {
     "name": "stdout",
     "output_type": "stream",
     "text": [
      "Training: Batch 1001/13908. Loss of 7.2350\n"
     ]
    },
    {
     "name": "stderr",
     "output_type": "stream",
     "text": [
      "EPOCH: 01 :  14%|█▍        | 2001/13908  3.22it/s,  LOSS: 7.2292 "
     ]
    },
    {
     "name": "stdout",
     "output_type": "stream",
     "text": [
      "Training: Batch 2001/13908. Loss of 7.2292\n"
     ]
    },
    {
     "name": "stderr",
     "output_type": "stream",
     "text": [
      "EPOCH: 01 :  22%|██▏       | 3001/13908  3.54it/s,  LOSS: 7.2119 "
     ]
    },
    {
     "name": "stdout",
     "output_type": "stream",
     "text": [
      "Training: Batch 3001/13908. Loss of 7.2119\n"
     ]
    },
    {
     "name": "stderr",
     "output_type": "stream",
     "text": [
      "EPOCH: 01 :  29%|██▉       | 4001/13908  3.19it/s,  LOSS: 7.2138 "
     ]
    },
    {
     "name": "stdout",
     "output_type": "stream",
     "text": [
      "Training: Batch 4001/13908. Loss of 7.2138\n"
     ]
    },
    {
     "name": "stderr",
     "output_type": "stream",
     "text": [
      "EPOCH: 01 :  36%|███▌      | 5001/13908  2.59it/s,  LOSS: 7.2282 "
     ]
    },
    {
     "name": "stdout",
     "output_type": "stream",
     "text": [
      "Training: Batch 5001/13908. Loss of 7.2282\n"
     ]
    },
    {
     "name": "stderr",
     "output_type": "stream",
     "text": [
      "EPOCH: 01 :  43%|████▎     | 6001/13908  3.24it/s,  LOSS: 7.2249 "
     ]
    },
    {
     "name": "stdout",
     "output_type": "stream",
     "text": [
      "Training: Batch 6001/13908. Loss of 7.2249\n"
     ]
    },
    {
     "name": "stderr",
     "output_type": "stream",
     "text": [
      "EPOCH: 01 :  50%|█████     | 7001/13908  3.13it/s,  LOSS: 7.2180 "
     ]
    },
    {
     "name": "stdout",
     "output_type": "stream",
     "text": [
      "Training: Batch 7001/13908. Loss of 7.2180\n"
     ]
    },
    {
     "name": "stderr",
     "output_type": "stream",
     "text": [
      "EPOCH: 01 :  58%|█████▊    | 8001/13908  3.43it/s,  LOSS: 7.2295 "
     ]
    },
    {
     "name": "stdout",
     "output_type": "stream",
     "text": [
      "Training: Batch 8001/13908. Loss of 7.2295\n"
     ]
    },
    {
     "name": "stderr",
     "output_type": "stream",
     "text": [
      "EPOCH: 01 :  65%|██████▍   | 9001/13908  3.32it/s,  LOSS: 7.2137 "
     ]
    },
    {
     "name": "stdout",
     "output_type": "stream",
     "text": [
      "Training: Batch 9001/13908. Loss of 7.2137\n"
     ]
    },
    {
     "name": "stderr",
     "output_type": "stream",
     "text": [
      "EPOCH: 01 :  72%|███████▏  | 10001/13908  2.77it/s,  LOSS: 7.2230 "
     ]
    },
    {
     "name": "stdout",
     "output_type": "stream",
     "text": [
      "Training: Batch 10001/13908. Loss of 7.2230\n"
     ]
    },
    {
     "name": "stderr",
     "output_type": "stream",
     "text": [
      "EPOCH: 01 :  79%|███████▉  | 11001/13908  3.52it/s,  LOSS: 7.2166 "
     ]
    },
    {
     "name": "stdout",
     "output_type": "stream",
     "text": [
      "Training: Batch 11001/13908. Loss of 7.2166\n"
     ]
    },
    {
     "name": "stderr",
     "output_type": "stream",
     "text": [
      "EPOCH: 01 :  86%|████████▋ | 12001/13908  3.12it/s,  LOSS: 7.2156 "
     ]
    },
    {
     "name": "stdout",
     "output_type": "stream",
     "text": [
      "Training: Batch 12001/13908. Loss of 7.2156\n"
     ]
    },
    {
     "name": "stderr",
     "output_type": "stream",
     "text": [
      "EPOCH: 01 :  93%|█████████▎| 13001/13908  3.31it/s,  LOSS: 7.2271 "
     ]
    },
    {
     "name": "stdout",
     "output_type": "stream",
     "text": [
      "Training: Batch 13001/13908. Loss of 7.2271\n"
     ]
    },
    {
     "name": "stderr",
     "output_type": "stream",
     "text": [
      "EPOCH: 01 : 100%|██████████| 13908/13908  3.22it/s,  LOSS: 7.0622 \n"
     ]
    },
    {
     "name": "stdout",
     "output_type": "stream",
     "text": [
      "Training: Batch 13908/13908. Loss of 7.0622\n",
      "Epoch 2/5. Average Loss of 7.2175 -\n"
     ]
    },
    {
     "name": "stderr",
     "output_type": "stream",
     "text": [
      "EPOCH: 02 :   0%|          | 1/13908  2.32s/it,  LOSS: 7.1884 "
     ]
    },
    {
     "name": "stdout",
     "output_type": "stream",
     "text": [
      "Training: Batch 1/13908. Loss of 7.1884\n"
     ]
    },
    {
     "name": "stderr",
     "output_type": "stream",
     "text": [
      "EPOCH: 02 :   7%|▋         | 1001/13908  3.43it/s,  LOSS: 7.2119 "
     ]
    },
    {
     "name": "stdout",
     "output_type": "stream",
     "text": [
      "Training: Batch 1001/13908. Loss of 7.2119\n"
     ]
    },
    {
     "name": "stderr",
     "output_type": "stream",
     "text": [
      "EPOCH: 02 :  14%|█▍        | 2001/13908  2.60it/s,  LOSS: 7.2025 "
     ]
    },
    {
     "name": "stdout",
     "output_type": "stream",
     "text": [
      "Training: Batch 2001/13908. Loss of 7.2025\n"
     ]
    },
    {
     "name": "stderr",
     "output_type": "stream",
     "text": [
      "EPOCH: 02 :  22%|██▏       | 3001/13908  3.35it/s,  LOSS: 7.2016 "
     ]
    },
    {
     "name": "stdout",
     "output_type": "stream",
     "text": [
      "Training: Batch 3001/13908. Loss of 7.2016\n"
     ]
    },
    {
     "name": "stderr",
     "output_type": "stream",
     "text": [
      "EPOCH: 02 :  29%|██▉       | 4001/13908  3.17it/s,  LOSS: 7.2042 "
     ]
    },
    {
     "name": "stdout",
     "output_type": "stream",
     "text": [
      "Training: Batch 4001/13908. Loss of 7.2042\n"
     ]
    },
    {
     "name": "stderr",
     "output_type": "stream",
     "text": [
      "EPOCH: 02 :  36%|███▌      | 5001/13908  3.43it/s,  LOSS: 7.2068 "
     ]
    },
    {
     "name": "stdout",
     "output_type": "stream",
     "text": [
      "Training: Batch 5001/13908. Loss of 7.2068\n"
     ]
    },
    {
     "name": "stderr",
     "output_type": "stream",
     "text": [
      "EPOCH: 02 :  43%|████▎     | 6001/13908  3.28it/s,  LOSS: 7.1833 "
     ]
    },
    {
     "name": "stdout",
     "output_type": "stream",
     "text": [
      "Training: Batch 6001/13908. Loss of 7.1833\n"
     ]
    },
    {
     "name": "stderr",
     "output_type": "stream",
     "text": [
      "EPOCH: 02 :  50%|█████     | 7001/13908  2.61it/s,  LOSS: 7.2017 "
     ]
    },
    {
     "name": "stdout",
     "output_type": "stream",
     "text": [
      "Training: Batch 7001/13908. Loss of 7.2017\n"
     ]
    },
    {
     "name": "stderr",
     "output_type": "stream",
     "text": [
      "EPOCH: 02 :  58%|█████▊    | 8001/13908  3.57it/s,  LOSS: 7.2025 "
     ]
    },
    {
     "name": "stdout",
     "output_type": "stream",
     "text": [
      "Training: Batch 8001/13908. Loss of 7.2025\n"
     ]
    },
    {
     "name": "stderr",
     "output_type": "stream",
     "text": [
      "EPOCH: 02 :  65%|██████▍   | 9001/13908  3.18it/s,  LOSS: 7.2066 "
     ]
    },
    {
     "name": "stdout",
     "output_type": "stream",
     "text": [
      "Training: Batch 9001/13908. Loss of 7.2066\n"
     ]
    },
    {
     "name": "stderr",
     "output_type": "stream",
     "text": [
      "EPOCH: 02 :  72%|███████▏  | 10001/13908  3.38it/s,  LOSS: 7.2071 "
     ]
    },
    {
     "name": "stdout",
     "output_type": "stream",
     "text": [
      "Training: Batch 10001/13908. Loss of 7.2071\n"
     ]
    },
    {
     "name": "stderr",
     "output_type": "stream",
     "text": [
      "EPOCH: 02 :  79%|███████▉  | 11001/13908  3.31it/s,  LOSS: 7.2090 "
     ]
    },
    {
     "name": "stdout",
     "output_type": "stream",
     "text": [
      "Training: Batch 11001/13908. Loss of 7.2090\n"
     ]
    },
    {
     "name": "stderr",
     "output_type": "stream",
     "text": [
      "EPOCH: 02 :  86%|████████▋ | 12001/13908  2.93it/s,  LOSS: 7.2280 "
     ]
    },
    {
     "name": "stdout",
     "output_type": "stream",
     "text": [
      "Training: Batch 12001/13908. Loss of 7.2280\n"
     ]
    },
    {
     "name": "stderr",
     "output_type": "stream",
     "text": [
      "EPOCH: 02 :  93%|█████████▎| 13001/13908  3.44it/s,  LOSS: 7.2078 "
     ]
    },
    {
     "name": "stdout",
     "output_type": "stream",
     "text": [
      "Training: Batch 13001/13908. Loss of 7.2078\n"
     ]
    },
    {
     "name": "stderr",
     "output_type": "stream",
     "text": [
      "EPOCH: 02 : 100%|██████████| 13908/13908  3.23it/s,  LOSS: 7.0202 \n"
     ]
    },
    {
     "name": "stdout",
     "output_type": "stream",
     "text": [
      "Training: Batch 13908/13908. Loss of 7.0202\n",
      "Epoch 3/5. Average Loss of 7.2015 -\n"
     ]
    },
    {
     "name": "stderr",
     "output_type": "stream",
     "text": [
      "EPOCH: 03 :   0%|          | 1/13908  2.31s/it,  LOSS: 7.1965 "
     ]
    },
    {
     "name": "stdout",
     "output_type": "stream",
     "text": [
      "Training: Batch 1/13908. Loss of 7.1965\n"
     ]
    },
    {
     "name": "stderr",
     "output_type": "stream",
     "text": [
      "EPOCH: 03 :   7%|▋         | 1001/13908  3.21it/s,  LOSS: 7.1779 "
     ]
    },
    {
     "name": "stdout",
     "output_type": "stream",
     "text": [
      "Training: Batch 1001/13908. Loss of 7.1779\n"
     ]
    },
    {
     "name": "stderr",
     "output_type": "stream",
     "text": [
      "EPOCH: 03 :  14%|█▍        | 2001/13908  3.43it/s,  LOSS: 7.1837 "
     ]
    },
    {
     "name": "stdout",
     "output_type": "stream",
     "text": [
      "Training: Batch 2001/13908. Loss of 7.1837\n"
     ]
    },
    {
     "name": "stderr",
     "output_type": "stream",
     "text": [
      "EPOCH: 03 :  22%|██▏       | 3001/13908  3.24it/s,  LOSS: 7.1893 "
     ]
    },
    {
     "name": "stdout",
     "output_type": "stream",
     "text": [
      "Training: Batch 3001/13908. Loss of 7.1893\n"
     ]
    },
    {
     "name": "stderr",
     "output_type": "stream",
     "text": [
      "EPOCH: 03 :  29%|██▉       | 4001/13908  2.62it/s,  LOSS: 7.1794 "
     ]
    },
    {
     "name": "stdout",
     "output_type": "stream",
     "text": [
      "Training: Batch 4001/13908. Loss of 7.1794\n"
     ]
    },
    {
     "name": "stderr",
     "output_type": "stream",
     "text": [
      "EPOCH: 03 :  36%|███▌      | 5001/13908  3.49it/s,  LOSS: 7.2014 "
     ]
    },
    {
     "name": "stdout",
     "output_type": "stream",
     "text": [
      "Training: Batch 5001/13908. Loss of 7.2014\n"
     ]
    },
    {
     "name": "stderr",
     "output_type": "stream",
     "text": [
      "EPOCH: 03 :  43%|████▎     | 6001/13908  3.35it/s,  LOSS: 7.2053 "
     ]
    },
    {
     "name": "stdout",
     "output_type": "stream",
     "text": [
      "Training: Batch 6001/13908. Loss of 7.2053\n"
     ]
    },
    {
     "name": "stderr",
     "output_type": "stream",
     "text": [
      "EPOCH: 03 :  50%|█████     | 7001/13908  3.42it/s,  LOSS: 7.1844 "
     ]
    },
    {
     "name": "stdout",
     "output_type": "stream",
     "text": [
      "Training: Batch 7001/13908. Loss of 7.1844\n"
     ]
    },
    {
     "name": "stderr",
     "output_type": "stream",
     "text": [
      "EPOCH: 03 :  58%|█████▊    | 8001/13908  3.34it/s,  LOSS: 7.2190 "
     ]
    },
    {
     "name": "stdout",
     "output_type": "stream",
     "text": [
      "Training: Batch 8001/13908. Loss of 7.2190\n"
     ]
    },
    {
     "name": "stderr",
     "output_type": "stream",
     "text": [
      "EPOCH: 03 :  65%|██████▍   | 9001/13908  2.76it/s,  LOSS: 7.1837 "
     ]
    },
    {
     "name": "stdout",
     "output_type": "stream",
     "text": [
      "Training: Batch 9001/13908. Loss of 7.1837\n"
     ]
    },
    {
     "name": "stderr",
     "output_type": "stream",
     "text": [
      "EPOCH: 03 :  72%|███████▏  | 10001/13908  3.37it/s,  LOSS: 7.1886 "
     ]
    },
    {
     "name": "stdout",
     "output_type": "stream",
     "text": [
      "Training: Batch 10001/13908. Loss of 7.1886\n"
     ]
    },
    {
     "name": "stderr",
     "output_type": "stream",
     "text": [
      "EPOCH: 03 :  79%|███████▉  | 11001/13908  3.12it/s,  LOSS: 7.1916 "
     ]
    },
    {
     "name": "stdout",
     "output_type": "stream",
     "text": [
      "Training: Batch 11001/13908. Loss of 7.1916\n"
     ]
    },
    {
     "name": "stderr",
     "output_type": "stream",
     "text": [
      "EPOCH: 03 :  86%|████████▋ | 12001/13908  3.54it/s,  LOSS: 7.2062 "
     ]
    },
    {
     "name": "stdout",
     "output_type": "stream",
     "text": [
      "Training: Batch 12001/13908. Loss of 7.2062\n"
     ]
    },
    {
     "name": "stderr",
     "output_type": "stream",
     "text": [
      "EPOCH: 03 :  93%|█████████▎| 13001/13908  3.32it/s,  LOSS: 7.2114 "
     ]
    },
    {
     "name": "stdout",
     "output_type": "stream",
     "text": [
      "Training: Batch 13001/13908. Loss of 7.2114\n"
     ]
    },
    {
     "name": "stderr",
     "output_type": "stream",
     "text": [
      "EPOCH: 03 : 100%|██████████| 13908/13908  3.22it/s,  LOSS: 7.0405 \n"
     ]
    },
    {
     "name": "stdout",
     "output_type": "stream",
     "text": [
      "Training: Batch 13908/13908. Loss of 7.0405\n",
      "Epoch 4/5. Average Loss of 7.1937 -\n"
     ]
    },
    {
     "name": "stderr",
     "output_type": "stream",
     "text": [
      "EPOCH: 04 :   0%|          | 1/13908  2.29s/it,  LOSS: 7.1814 "
     ]
    },
    {
     "name": "stdout",
     "output_type": "stream",
     "text": [
      "Training: Batch 1/13908. Loss of 7.1814\n"
     ]
    },
    {
     "name": "stderr",
     "output_type": "stream",
     "text": [
      "EPOCH: 04 :   7%|▋         | 1001/13908  3.14it/s,  LOSS: 7.1834 "
     ]
    },
    {
     "name": "stdout",
     "output_type": "stream",
     "text": [
      "Training: Batch 1001/13908. Loss of 7.1834\n"
     ]
    },
    {
     "name": "stderr",
     "output_type": "stream",
     "text": [
      "EPOCH: 04 :  14%|█▍        | 2001/13908  3.34it/s,  LOSS: 7.1982 "
     ]
    },
    {
     "name": "stdout",
     "output_type": "stream",
     "text": [
      "Training: Batch 2001/13908. Loss of 7.1982\n"
     ]
    },
    {
     "name": "stderr",
     "output_type": "stream",
     "text": [
      "EPOCH: 04 :  22%|██▏       | 3001/13908  3.11it/s,  LOSS: 7.1926 "
     ]
    },
    {
     "name": "stdout",
     "output_type": "stream",
     "text": [
      "Training: Batch 3001/13908. Loss of 7.1926\n"
     ]
    },
    {
     "name": "stderr",
     "output_type": "stream",
     "text": [
      "EPOCH: 04 :  29%|██▉       | 4001/13908  2.88it/s,  LOSS: 7.1909 "
     ]
    },
    {
     "name": "stdout",
     "output_type": "stream",
     "text": [
      "Training: Batch 4001/13908. Loss of 7.1909\n"
     ]
    },
    {
     "name": "stderr",
     "output_type": "stream",
     "text": [
      "EPOCH: 04 :  36%|███▌      | 5001/13908  3.39it/s,  LOSS: 7.1832 "
     ]
    },
    {
     "name": "stdout",
     "output_type": "stream",
     "text": [
      "Training: Batch 5001/13908. Loss of 7.1832\n"
     ]
    },
    {
     "name": "stderr",
     "output_type": "stream",
     "text": [
      "EPOCH: 04 :  43%|████▎     | 6001/13908  3.21it/s,  LOSS: 7.2028 "
     ]
    },
    {
     "name": "stdout",
     "output_type": "stream",
     "text": [
      "Training: Batch 6001/13908. Loss of 7.2028\n"
     ]
    },
    {
     "name": "stderr",
     "output_type": "stream",
     "text": [
      "EPOCH: 04 :  50%|█████     | 7001/13908  3.44it/s,  LOSS: 7.1953 "
     ]
    },
    {
     "name": "stdout",
     "output_type": "stream",
     "text": [
      "Training: Batch 7001/13908. Loss of 7.1953\n"
     ]
    },
    {
     "name": "stderr",
     "output_type": "stream",
     "text": [
      "EPOCH: 04 :  58%|█████▊    | 8001/13908  3.28it/s,  LOSS: 7.1900 "
     ]
    },
    {
     "name": "stdout",
     "output_type": "stream",
     "text": [
      "Training: Batch 8001/13908. Loss of 7.1900\n"
     ]
    },
    {
     "name": "stderr",
     "output_type": "stream",
     "text": [
      "EPOCH: 04 :  65%|██████▍   | 9001/13908  2.84it/s,  LOSS: 7.2064 "
     ]
    },
    {
     "name": "stdout",
     "output_type": "stream",
     "text": [
      "Training: Batch 9001/13908. Loss of 7.2064\n"
     ]
    },
    {
     "name": "stderr",
     "output_type": "stream",
     "text": [
      "EPOCH: 04 :  72%|███████▏  | 10001/13908  3.44it/s,  LOSS: 7.1876 "
     ]
    },
    {
     "name": "stdout",
     "output_type": "stream",
     "text": [
      "Training: Batch 10001/13908. Loss of 7.1876\n"
     ]
    },
    {
     "name": "stderr",
     "output_type": "stream",
     "text": [
      "EPOCH: 04 :  79%|███████▉  | 11001/13908  3.16it/s,  LOSS: 7.1978 "
     ]
    },
    {
     "name": "stdout",
     "output_type": "stream",
     "text": [
      "Training: Batch 11001/13908. Loss of 7.1978\n"
     ]
    },
    {
     "name": "stderr",
     "output_type": "stream",
     "text": [
      "EPOCH: 04 :  86%|████████▋ | 12001/13908  3.51it/s,  LOSS: 7.1917 "
     ]
    },
    {
     "name": "stdout",
     "output_type": "stream",
     "text": [
      "Training: Batch 12001/13908. Loss of 7.1917\n"
     ]
    },
    {
     "name": "stderr",
     "output_type": "stream",
     "text": [
      "EPOCH: 04 :  93%|█████████▎| 13001/13908  3.26it/s,  LOSS: 7.1972 "
     ]
    },
    {
     "name": "stdout",
     "output_type": "stream",
     "text": [
      "Training: Batch 13001/13908. Loss of 7.1972\n"
     ]
    },
    {
     "name": "stderr",
     "output_type": "stream",
     "text": [
      "EPOCH: 04 : 100%|██████████| 13908/13908  3.22it/s,  LOSS: 7.0184 \n"
     ]
    },
    {
     "name": "stdout",
     "output_type": "stream",
     "text": [
      "Training: Batch 13908/13908. Loss of 7.0184\n",
      "Epoch 5/5. Average Loss of 7.1890 -\n"
     ]
    }
   ],
   "source": [
    "model, loss_history, reg_loss_history = train_model2(train_loader, unique_items_loader, model, learning_rate, weight_decay, num_epochs)"
   ]
  },
  {
   "cell_type": "code",
   "execution_count": 47,
   "metadata": {},
   "outputs": [
    {
     "data": {
      "image/png": "[encoded data removed]",
      "text/plain": [
       "<Figure size 1000x600 with 1 Axes>"
      ]
     },
     "metadata": {},
     "output_type": "display_data"
    }
   ],
   "source": [
    "import matplotlib.pyplot as plt\n",
    "\n",
    "\n",
    "def plot_loss_history(loss_history, num_epochs):\n",
    "    plt.figure(figsize=(10, 6))\n",
    "    plt.plot(range(1, num_epochs + 1), loss_history, marker=\"o\")\n",
    "    plt.title(\"Training Loss over Epochs\")\n",
    "    plt.xlabel(\"Epoch\")\n",
    "    plt.ylabel(\"Average Loss\")\n",
    "    plt.grid(True)\n",
    "    plt.xticks(range(1, num_epochs + 1))  # Set x-axis ticks to show each epoch\n",
    "\n",
    "    # Annotate the lowest loss point\n",
    "    min_loss = min(loss_history)\n",
    "    min_epoch = loss_history.index(min_loss) + 1\n",
    "    plt.annotate(\n",
    "        f\"Lowest: {min_loss:.4f}\",\n",
    "        xy=(min_epoch, min_loss),\n",
    "        xytext=(5, 5),\n",
    "        textcoords=\"offset points\",\n",
    "        ha=\"left\",\n",
    "        va=\"bottom\",\n",
    "        bbox=dict(boxstyle=\"round,pad=0.5\", fc=\"yellow\", alpha=0.5),\n",
    "        arrowprops=dict(arrowstyle=\"->\", connectionstyle=\"arc3,rad=0\"),\n",
    "    )\n",
    "\n",
    "    plt.tight_layout()\n",
    "    plt.show()\n",
    "\n",
    "\n",
    "plot_loss_history(loss_history, num_epochs)"
   ]
  },
  {
   "cell_type": "code",
   "execution_count": 48,
   "metadata": {},
   "outputs": [
    {
     "ename": "ValueError",
     "evalue": "x and y must have same first dimension, but have shapes (5,) and (0,)",
     "output_type": "error",
     "traceback": [
      "\u001b[1;31m---------------------------------------------------------------------------\u001b[0m",
      "\u001b[1;31mValueError\u001b[0m                                Traceback (most recent call last)",
      "Cell \u001b[1;32mIn[48], line 1\u001b[0m\n\u001b[1;32m----> 1\u001b[0m \u001b[43mplot_loss_history\u001b[49m\u001b[43m(\u001b[49m\u001b[43mreg_loss_history\u001b[49m\u001b[43m,\u001b[49m\u001b[43m \u001b[49m\u001b[43mnum_epochs\u001b[49m\u001b[43m)\u001b[49m\n",
      "Cell \u001b[1;32mIn[47], line 6\u001b[0m, in \u001b[0;36mplot_loss_history\u001b[1;34m(loss_history, num_epochs)\u001b[0m\n\u001b[0;32m      4\u001b[0m \u001b[38;5;28;01mdef\u001b[39;00m \u001b[38;5;21mplot_loss_history\u001b[39m(loss_history, num_epochs):\n\u001b[0;32m      5\u001b[0m     plt\u001b[38;5;241m.\u001b[39mfigure(figsize\u001b[38;5;241m=\u001b[39m(\u001b[38;5;241m10\u001b[39m, \u001b[38;5;241m6\u001b[39m))\n\u001b[1;32m----> 6\u001b[0m     \u001b[43mplt\u001b[49m\u001b[38;5;241;43m.\u001b[39;49m\u001b[43mplot\u001b[49m\u001b[43m(\u001b[49m\u001b[38;5;28;43mrange\u001b[39;49m\u001b[43m(\u001b[49m\u001b[38;5;241;43m1\u001b[39;49m\u001b[43m,\u001b[49m\u001b[43m \u001b[49m\u001b[43mnum_epochs\u001b[49m\u001b[43m \u001b[49m\u001b[38;5;241;43m+\u001b[39;49m\u001b[43m \u001b[49m\u001b[38;5;241;43m1\u001b[39;49m\u001b[43m)\u001b[49m\u001b[43m,\u001b[49m\u001b[43m \u001b[49m\u001b[43mloss_history\u001b[49m\u001b[43m,\u001b[49m\u001b[43m \u001b[49m\u001b[43mmarker\u001b[49m\u001b[38;5;241;43m=\u001b[39;49m\u001b[38;5;124;43m\"\u001b[39;49m\u001b[38;5;124;43mo\u001b[39;49m\u001b[38;5;124;43m\"\u001b[39;49m\u001b[43m)\u001b[49m\n\u001b[0;32m      7\u001b[0m     plt\u001b[38;5;241m.\u001b[39mtitle(\u001b[38;5;124m\"\u001b[39m\u001b[38;5;124mTraining Loss over Epochs\u001b[39m\u001b[38;5;124m\"\u001b[39m)\n\u001b[0;32m      8\u001b[0m     plt\u001b[38;5;241m.\u001b[39mxlabel(\u001b[38;5;124m\"\u001b[39m\u001b[38;5;124mEpoch\u001b[39m\u001b[38;5;124m\"\u001b[39m)\n",
      "File \u001b[1;32me:\\Projects\\H_M_Personalized_Fashion_Recommendations\\venv\\lib\\site-packages\\matplotlib\\pyplot.py:3794\u001b[0m, in \u001b[0;36mplot\u001b[1;34m(scalex, scaley, data, *args, **kwargs)\u001b[0m\n\u001b[0;32m   3786\u001b[0m \u001b[38;5;129m@_copy_docstring_and_deprecators\u001b[39m(Axes\u001b[38;5;241m.\u001b[39mplot)\n\u001b[0;32m   3787\u001b[0m \u001b[38;5;28;01mdef\u001b[39;00m \u001b[38;5;21mplot\u001b[39m(\n\u001b[0;32m   3788\u001b[0m     \u001b[38;5;241m*\u001b[39margs: \u001b[38;5;28mfloat\u001b[39m \u001b[38;5;241m|\u001b[39m ArrayLike \u001b[38;5;241m|\u001b[39m \u001b[38;5;28mstr\u001b[39m,\n\u001b[1;32m   (...)\u001b[0m\n\u001b[0;32m   3792\u001b[0m     \u001b[38;5;241m*\u001b[39m\u001b[38;5;241m*\u001b[39mkwargs,\n\u001b[0;32m   3793\u001b[0m ) \u001b[38;5;241m-\u001b[39m\u001b[38;5;241m>\u001b[39m \u001b[38;5;28mlist\u001b[39m[Line2D]:\n\u001b[1;32m-> 3794\u001b[0m     \u001b[38;5;28;01mreturn\u001b[39;00m gca()\u001b[38;5;241m.\u001b[39mplot(\n\u001b[0;32m   3795\u001b[0m         \u001b[38;5;241m*\u001b[39margs,\n\u001b[0;32m   3796\u001b[0m         scalex\u001b[38;5;241m=\u001b[39mscalex,\n\u001b[0;32m   3797\u001b[0m         scaley\u001b[38;5;241m=\u001b[39mscaley,\n\u001b[0;32m   3798\u001b[0m         \u001b[38;5;241m*\u001b[39m\u001b[38;5;241m*\u001b[39m({\u001b[38;5;124m\"\u001b[39m\u001b[38;5;124mdata\u001b[39m\u001b[38;5;124m\"\u001b[39m: data} \u001b[38;5;28;01mif\u001b[39;00m data \u001b[38;5;129;01mis\u001b[39;00m \u001b[38;5;129;01mnot\u001b[39;00m \u001b[38;5;28;01mNone\u001b[39;00m \u001b[38;5;28;01melse\u001b[39;00m {}),\n\u001b[0;32m   3799\u001b[0m         \u001b[38;5;241m*\u001b[39m\u001b[38;5;241m*\u001b[39mkwargs,\n\u001b[0;32m   3800\u001b[0m     )\n",
      "File \u001b[1;32me:\\Projects\\H_M_Personalized_Fashion_Recommendations\\venv\\lib\\site-packages\\matplotlib\\axes\\_axes.py:1779\u001b[0m, in \u001b[0;36mAxes.plot\u001b[1;34m(self, scalex, scaley, data, *args, **kwargs)\u001b[0m\n\u001b[0;32m   1536\u001b[0m \u001b[38;5;250m\u001b[39m\u001b[38;5;124;03m\"\"\"\u001b[39;00m\n\u001b[0;32m   1537\u001b[0m \u001b[38;5;124;03mPlot y versus x as lines and/or markers.\u001b[39;00m\n\u001b[0;32m   1538\u001b[0m \n\u001b[1;32m   (...)\u001b[0m\n\u001b[0;32m   1776\u001b[0m \u001b[38;5;124;03m(``'green'``) or hex strings (``'#008000'``).\u001b[39;00m\n\u001b[0;32m   1777\u001b[0m \u001b[38;5;124;03m\"\"\"\u001b[39;00m\n\u001b[0;32m   1778\u001b[0m kwargs \u001b[38;5;241m=\u001b[39m cbook\u001b[38;5;241m.\u001b[39mnormalize_kwargs(kwargs, mlines\u001b[38;5;241m.\u001b[39mLine2D)\n\u001b[1;32m-> 1779\u001b[0m lines \u001b[38;5;241m=\u001b[39m [\u001b[38;5;241m*\u001b[39m\u001b[38;5;28mself\u001b[39m\u001b[38;5;241m.\u001b[39m_get_lines(\u001b[38;5;28mself\u001b[39m, \u001b[38;5;241m*\u001b[39margs, data\u001b[38;5;241m=\u001b[39mdata, \u001b[38;5;241m*\u001b[39m\u001b[38;5;241m*\u001b[39mkwargs)]\n\u001b[0;32m   1780\u001b[0m \u001b[38;5;28;01mfor\u001b[39;00m line \u001b[38;5;129;01min\u001b[39;00m lines:\n\u001b[0;32m   1781\u001b[0m     \u001b[38;5;28mself\u001b[39m\u001b[38;5;241m.\u001b[39madd_line(line)\n",
      "File \u001b[1;32me:\\Projects\\H_M_Personalized_Fashion_Recommendations\\venv\\lib\\site-packages\\matplotlib\\axes\\_base.py:296\u001b[0m, in \u001b[0;36m_process_plot_var_args.__call__\u001b[1;34m(self, axes, data, *args, **kwargs)\u001b[0m\n\u001b[0;32m    294\u001b[0m     this \u001b[38;5;241m+\u001b[39m\u001b[38;5;241m=\u001b[39m args[\u001b[38;5;241m0\u001b[39m],\n\u001b[0;32m    295\u001b[0m     args \u001b[38;5;241m=\u001b[39m args[\u001b[38;5;241m1\u001b[39m:]\n\u001b[1;32m--> 296\u001b[0m \u001b[38;5;28;01myield from\u001b[39;00m \u001b[38;5;28;43mself\u001b[39;49m\u001b[38;5;241;43m.\u001b[39;49m\u001b[43m_plot_args\u001b[49m\u001b[43m(\u001b[49m\n\u001b[0;32m    297\u001b[0m \u001b[43m    \u001b[49m\u001b[43maxes\u001b[49m\u001b[43m,\u001b[49m\u001b[43m \u001b[49m\u001b[43mthis\u001b[49m\u001b[43m,\u001b[49m\u001b[43m \u001b[49m\u001b[43mkwargs\u001b[49m\u001b[43m,\u001b[49m\u001b[43m \u001b[49m\u001b[43mambiguous_fmt_datakey\u001b[49m\u001b[38;5;241;43m=\u001b[39;49m\u001b[43mambiguous_fmt_datakey\u001b[49m\u001b[43m)\u001b[49m\n",
      "File \u001b[1;32me:\\Projects\\H_M_Personalized_Fashion_Recommendations\\venv\\lib\\site-packages\\matplotlib\\axes\\_base.py:486\u001b[0m, in \u001b[0;36m_process_plot_var_args._plot_args\u001b[1;34m(self, axes, tup, kwargs, return_kwargs, ambiguous_fmt_datakey)\u001b[0m\n\u001b[0;32m    483\u001b[0m     axes\u001b[38;5;241m.\u001b[39myaxis\u001b[38;5;241m.\u001b[39mupdate_units(y)\n\u001b[0;32m    485\u001b[0m \u001b[38;5;28;01mif\u001b[39;00m x\u001b[38;5;241m.\u001b[39mshape[\u001b[38;5;241m0\u001b[39m] \u001b[38;5;241m!=\u001b[39m y\u001b[38;5;241m.\u001b[39mshape[\u001b[38;5;241m0\u001b[39m]:\n\u001b[1;32m--> 486\u001b[0m     \u001b[38;5;28;01mraise\u001b[39;00m \u001b[38;5;167;01mValueError\u001b[39;00m(\u001b[38;5;124mf\u001b[39m\u001b[38;5;124m\"\u001b[39m\u001b[38;5;124mx and y must have same first dimension, but \u001b[39m\u001b[38;5;124m\"\u001b[39m\n\u001b[0;32m    487\u001b[0m                      \u001b[38;5;124mf\u001b[39m\u001b[38;5;124m\"\u001b[39m\u001b[38;5;124mhave shapes \u001b[39m\u001b[38;5;132;01m{\u001b[39;00mx\u001b[38;5;241m.\u001b[39mshape\u001b[38;5;132;01m}\u001b[39;00m\u001b[38;5;124m and \u001b[39m\u001b[38;5;132;01m{\u001b[39;00my\u001b[38;5;241m.\u001b[39mshape\u001b[38;5;132;01m}\u001b[39;00m\u001b[38;5;124m\"\u001b[39m)\n\u001b[0;32m    488\u001b[0m \u001b[38;5;28;01mif\u001b[39;00m x\u001b[38;5;241m.\u001b[39mndim \u001b[38;5;241m>\u001b[39m \u001b[38;5;241m2\u001b[39m \u001b[38;5;129;01mor\u001b[39;00m y\u001b[38;5;241m.\u001b[39mndim \u001b[38;5;241m>\u001b[39m \u001b[38;5;241m2\u001b[39m:\n\u001b[0;32m    489\u001b[0m     \u001b[38;5;28;01mraise\u001b[39;00m \u001b[38;5;167;01mValueError\u001b[39;00m(\u001b[38;5;124mf\u001b[39m\u001b[38;5;124m\"\u001b[39m\u001b[38;5;124mx and y can be no greater than 2D, but have \u001b[39m\u001b[38;5;124m\"\u001b[39m\n\u001b[0;32m    490\u001b[0m                      \u001b[38;5;124mf\u001b[39m\u001b[38;5;124m\"\u001b[39m\u001b[38;5;124mshapes \u001b[39m\u001b[38;5;132;01m{\u001b[39;00mx\u001b[38;5;241m.\u001b[39mshape\u001b[38;5;132;01m}\u001b[39;00m\u001b[38;5;124m and \u001b[39m\u001b[38;5;132;01m{\u001b[39;00my\u001b[38;5;241m.\u001b[39mshape\u001b[38;5;132;01m}\u001b[39;00m\u001b[38;5;124m\"\u001b[39m)\n",
      "\u001b[1;31mValueError\u001b[0m: x and y must have same first dimension, but have shapes (5,) and (0,)"
     ]
    },
    {
     "data": {
      "image/png": "[encoded data removed]",
      "text/plain": [
       "<Figure size 1000x600 with 1 Axes>"
      ]
     },
     "metadata": {},
     "output_type": "display_data"
    }
   ],
   "source": [
    "plot_loss_history(reg_loss_history, num_epochs)"
   ]
  },
  {
   "cell_type": "code",
   "execution_count": null,
   "metadata": {},
   "outputs": [],
   "source": []
  },
  {
   "cell_type": "code",
   "execution_count": null,
   "metadata": {},
   "outputs": [],
   "source": []
  },
  {
   "cell_type": "code",
   "execution_count": null,
   "metadata": {},
   "outputs": [],
   "source": []
  },
  {
   "cell_type": "code",
   "execution_count": null,
   "metadata": {},
   "outputs": [],
   "source": []
  },
  {
   "cell_type": "code",
   "execution_count": null,
   "metadata": {},
   "outputs": [],
   "source": []
  }
 ],
 "metadata": {
  "kernelspec": {
   "display_name": "venv",
   "language": "python",
   "name": "python3"
  },
  "language_info": {
   "codemirror_mode": {
    "name": "ipython",
    "version": 3
   },
   "file_extension": ".py",
   "mimetype": "text/x-python",
   "name": "python",
   "nbconvert_exporter": "python",
   "pygments_lexer": "ipython3",
   "version": "3.10.11"
  }
 },
 "nbformat": 4,
 "nbformat_minor": 2
}
