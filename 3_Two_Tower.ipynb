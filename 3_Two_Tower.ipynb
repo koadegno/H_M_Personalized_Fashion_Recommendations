{
 "cells": [
  {
   "cell_type": "markdown",
   "metadata": {},
   "source": [
    "## Overview\n",
    "### Two Tower Architecture\n",
    "This model is based on the two-tower architecture\n",
    "The two towers are used to learn representations of both the user and the item. The two-tower model is based on queries and the candidate they both shared a low-dimensional vector space. In our case, a query is customer and its transactions features and the candidate is the articles.\n",
    "\n",
    "I will try to use mlflow to keep track of experiments (and improve myself with this tool).\n",
    "\n",
    "\n",
    "\n",
    "![Alt text](https://miro.medium.com/v2/resize:fit:420/1*JbK2gjfLC4IFoM6AVWLaUQ.png)\n",
    "\n",
    "![Alt text](https://miro.medium.com/v2/resize:fit:420/format:webp/0*aJHT3_bGIvERfhaY)\n",
    "\n",
    "[image source](https://medium.com/smartnews-inc/user-behavior-sequence-for-items-recommendation-in-smartnews-ads-2376622f6192)\n",
    "\n",
    "\n",
    "\n",
    "Source: \n",
    "- https://medium.com/smartnews-inc/user-behavior-sequence-for-items-recommendation-in-smartnews-ads-2376622f6192\n",
    "- https://cloud.google.com/blog/products/ai-machine-learning/scaling-deep-retrieval-tensorflow-two-towers-architecture?hl=en"
   ]
  },
  {
   "cell_type": "code",
   "execution_count": 2,
   "metadata": {},
   "outputs": [],
   "source": [
    "import pandas as pd\n",
    "import numpy as np\n",
    "import preprocessing\n",
    "import torch"
   ]
  },
  {
   "cell_type": "markdown",
   "metadata": {},
   "source": [
    "## Reading data and feature selections"
   ]
  },
  {
   "cell_type": "code",
   "execution_count": 3,
   "metadata": {},
   "outputs": [
    {
     "name": "stdout",
     "output_type": "stream",
     "text": [
      "Shape before:  (105542, 25)\n",
      "Shape after:  (105542, 24)\n"
     ]
    }
   ],
   "source": [
    "articles_df = pd.read_csv(\"data/articles.csv\", encoding=\"utf-8\")\n",
    "print(\"Shape before: \", articles_df.shape)\n",
    "articles_df = preprocessing.preprocess_articles(articles_df)\n",
    "print(\"Shape after: \", articles_df.shape)"
   ]
  },
  {
   "cell_type": "code",
   "execution_count": 4,
   "metadata": {},
   "outputs": [
    {
     "name": "stdout",
     "output_type": "stream",
     "text": [
      "Shape before:  (1371980, 7)\n",
      "Shape after:  (1356119, 5)\n"
     ]
    }
   ],
   "source": [
    "customers_df = pd.read_csv(\"data/customers.csv\", encoding=\"utf-8\")\n",
    "print(\"Shape before: \", customers_df.shape)\n",
    "customers_df = preprocessing.preprocess_customers(customers_df)\n",
    "print(\"Shape after: \", customers_df.shape)"
   ]
  },
  {
   "cell_type": "code",
   "execution_count": 5,
   "metadata": {},
   "outputs": [
    {
     "name": "stdout",
     "output_type": "stream",
     "text": [
      "Shape before:  (31788324, 5)\n",
      "Shape after:  (31788324, 11)\n"
     ]
    }
   ],
   "source": [
    "transaction_df = pd.read_csv(\"data/transactions_train.csv\", encoding=\"utf-8\")\n",
    "print(\"Shape before: \", transaction_df.shape)\n",
    "transaction_df = preprocessing.preprocess_transactions(transaction_df)\n",
    "print(\"Shape after: \", transaction_df.shape)"
   ]
  },
  {
   "cell_type": "code",
   "execution_count": 6,
   "metadata": {},
   "outputs": [],
   "source": [
    "# join the three data sources to make the data compatible with out retrieval model.\n",
    "df = pd.merge(\n",
    "    pd.merge(\n",
    "        transaction_df[[\"article_id\", \"customer_id\", \"t_dat\", \"price\", \"month_sin\", \"month_cos\"]], articles_df[[\"article_id\", \"garment_group_name\", \"index_group_name\"]], on=\"article_id\", how=\"inner\"\n",
    "    ),\n",
    "    customers_df[[\"customer_id\", \"age\", \"club_member_status\", \"age_group\"]],\n",
    "    on=\"customer_id\",\n",
    "    how=\"inner\",\n",
    ")"
   ]
  },
  {
   "cell_type": "code",
   "execution_count": 7,
   "metadata": {},
   "outputs": [
    {
     "data": {
      "text/html": [
       "<div>\n",
       "<style scoped>\n",
       "    .dataframe tbody tr th:only-of-type {\n",
       "        vertical-align: middle;\n",
       "    }\n",
       "\n",
       "    .dataframe tbody tr th {\n",
       "        vertical-align: top;\n",
       "    }\n",
       "\n",
       "    .dataframe thead th {\n",
       "        text-align: right;\n",
       "    }\n",
       "</style>\n",
       "<table border=\"1\" class=\"dataframe\">\n",
       "  <thead>\n",
       "    <tr style=\"text-align: right;\">\n",
       "      <th></th>\n",
       "      <th>article_id</th>\n",
       "      <th>customer_id</th>\n",
       "      <th>t_dat</th>\n",
       "      <th>price</th>\n",
       "      <th>month_sin</th>\n",
       "      <th>month_cos</th>\n",
       "      <th>garment_group_name</th>\n",
       "      <th>index_group_name</th>\n",
       "      <th>age</th>\n",
       "      <th>club_member_status</th>\n",
       "      <th>age_group</th>\n",
       "    </tr>\n",
       "  </thead>\n",
       "  <tbody>\n",
       "    <tr>\n",
       "      <th>0</th>\n",
       "      <td>663713001</td>\n",
       "      <td>000058a12d5b43e67d225668fa1f8d618c13dc232df0ca...</td>\n",
       "      <td>2018-09-20</td>\n",
       "      <td>0.050831</td>\n",
       "      <td>-0.866025</td>\n",
       "      <td>-0.5</td>\n",
       "      <td>Under-, Nightwear</td>\n",
       "      <td>Ladieswear</td>\n",
       "      <td>24.0</td>\n",
       "      <td>ACTIVE</td>\n",
       "      <td>19-25</td>\n",
       "    </tr>\n",
       "    <tr>\n",
       "      <th>1</th>\n",
       "      <td>663713001</td>\n",
       "      <td>000058a12d5b43e67d225668fa1f8d618c13dc232df0ca...</td>\n",
       "      <td>2018-09-24</td>\n",
       "      <td>0.050831</td>\n",
       "      <td>-0.866025</td>\n",
       "      <td>-0.5</td>\n",
       "      <td>Under-, Nightwear</td>\n",
       "      <td>Ladieswear</td>\n",
       "      <td>24.0</td>\n",
       "      <td>ACTIVE</td>\n",
       "      <td>19-25</td>\n",
       "    </tr>\n",
       "  </tbody>\n",
       "</table>\n",
       "</div>"
      ],
      "text/plain": [
       "  article_id                                        customer_id      t_dat  \\\n",
       "0  663713001  000058a12d5b43e67d225668fa1f8d618c13dc232df0ca... 2018-09-20   \n",
       "1  663713001  000058a12d5b43e67d225668fa1f8d618c13dc232df0ca... 2018-09-24   \n",
       "\n",
       "      price  month_sin  month_cos garment_group_name index_group_name   age  \\\n",
       "0  0.050831  -0.866025       -0.5  Under-, Nightwear       Ladieswear  24.0   \n",
       "1  0.050831  -0.866025       -0.5  Under-, Nightwear       Ladieswear  24.0   \n",
       "\n",
       "  club_member_status age_group  \n",
       "0             ACTIVE     19-25  \n",
       "1             ACTIVE     19-25  "
      ]
     },
     "execution_count": 7,
     "metadata": {},
     "output_type": "execute_result"
    }
   ],
   "source": [
    "df.head(2)"
   ]
  },
  {
   "cell_type": "code",
   "execution_count": 8,
   "metadata": {},
   "outputs": [
    {
     "data": {
      "text/plain": [
       "(31648066, 11)"
      ]
     },
     "execution_count": 8,
     "metadata": {},
     "output_type": "execute_result"
    }
   ],
   "source": [
    "df.shape"
   ]
  },
  {
   "cell_type": "markdown",
   "metadata": {},
   "source": [
    "## Train/Validate/Test split and Tensors"
   ]
  },
  {
   "cell_type": "code",
   "execution_count": 9,
   "metadata": {},
   "outputs": [
    {
     "data": {
      "text/plain": [
       "<torch._C.Generator at 0x2a3a152fdd0>"
      ]
     },
     "execution_count": 9,
     "metadata": {},
     "output_type": "execute_result"
    }
   ],
   "source": [
    "from sklearn.model_selection import train_test_split\n",
    "\n",
    "seed = 2024\n",
    "torch.manual_seed(seed)"
   ]
  },
  {
   "cell_type": "code",
   "execution_count": 10,
   "metadata": {},
   "outputs": [],
   "source": [
    "train_df, val_df = train_test_split(df, test_size=0.1, random_state=seed)"
   ]
  },
  {
   "cell_type": "code",
   "execution_count": 11,
   "metadata": {},
   "outputs": [
    {
     "data": {
      "text/plain": [
       "article_id            0\n",
       "customer_id           0\n",
       "t_dat                 0\n",
       "price                 0\n",
       "month_sin             0\n",
       "month_cos             0\n",
       "garment_group_name    0\n",
       "index_group_name      0\n",
       "age                   0\n",
       "club_member_status    0\n",
       "age_group             0\n",
       "dtype: int64"
      ]
     },
     "execution_count": 11,
     "metadata": {},
     "output_type": "execute_result"
    }
   ],
   "source": [
    "train_df.isnull().sum()"
   ]
  },
  {
   "cell_type": "code",
   "execution_count": 12,
   "metadata": {},
   "outputs": [
    {
     "name": "stdout",
     "output_type": "stream",
     "text": [
      "Training shape:  (28483259, 11)\n",
      "Validation shape:  (3164807, 11)\n"
     ]
    }
   ],
   "source": [
    "print(\"Training shape: \", train_df.shape)\n",
    "print(\"Validation shape: \", val_df.shape)"
   ]
  },
  {
   "cell_type": "code",
   "execution_count": 14,
   "metadata": {},
   "outputs": [],
   "source": [
    "from torch.utils.data import Dataset, DataLoader\n",
    "\n",
    "\n",
    "class CustomDataset(Dataset):\n",
    "    def __init__(self, df):\n",
    "        self.data = {col: torch.tensor(df[col].values) if pd.api.types.is_numeric_dtype(df[col]) else df[col].values for col in df.columns}\n",
    "\n",
    "    def __len__(self):\n",
    "        return len(next(iter(self.data.values())))\n",
    "\n",
    "    def __getitem__(self, idx):\n",
    "        return {key: value[idx] for key, value in self.data.items()}"
   ]
  },
  {
   "cell_type": "code",
   "execution_count": null,
   "metadata": {},
   "outputs": [],
   "source": [
    "def custom_collate_fn(batch):\n",
    "    \"\"\"\n",
    "    Custom collate function to handle mixed-type datasets\n",
    "\n",
    "    Args:\n",
    "        batch (list): List of dictionaries from the dataset\n",
    "\n",
    "    Returns:\n",
    "        dict: A dictionary with tensors and arrays properly handled\n",
    "    \"\"\"\n",
    "    # Initialize dictionaries to collect data\n",
    "    collated_batch = {}\n",
    "\n",
    "    # Iterate through keys of the first item to get all column names\n",
    "    for key in batch[0].keys():\n",
    "        # Collect values for this key\n",
    "        values = [item[key] for item in batch]\n",
    "\n",
    "        # Check the type of the first value to determine how to process\n",
    "        if isinstance(values[0], torch.Tensor):\n",
    "            # If it's already a tensor, stack them\n",
    "            collated_batch[key] = torch.stack(values)\n",
    "        elif isinstance(values[0], np.ndarray):\n",
    "            # If it's a numpy array, convert to tensor or keep as array\n",
    "            if values[0].dtype in [np.float32, np.float64, np.int32, np.int64]:\n",
    "                collated_batch[key] = torch.tensor(values)\n",
    "            else:\n",
    "                collated_batch[key] = np.array(values)\n",
    "        else:\n",
    "            # For other types (like strings), keep as list or array\n",
    "            collated_batch[key] = np.array(values)\n",
    "\n",
    "    return collated_batch"
   ]
  },
  {
   "cell_type": "code",
   "execution_count": 26,
   "metadata": {},
   "outputs": [
    {
     "data": {
      "text/plain": [
       "{'article_id': array(['800800004', '770211001'], dtype=object),\n",
       " 'customer_id': array(['7169c8c204f8e37131bb13f05b31a0786e70d6789fa72af320bf245d7e4ccf74',\n",
       "        '0c6a37c6008e0740828502652ab3c7120b68d27a26fee734a9dee0f121997924'],\n",
       "       dtype=object),\n",
       " 't_dat': array(['2020-02-14T00:00:00.000000000', '2019-06-29T00:00:00.000000000'],\n",
       "       dtype='datetime64[ns]'),\n",
       " 'price': tensor([0.0169, 0.0190], dtype=torch.float64),\n",
       " 'month_sin': tensor([0.5000, 0.5000], dtype=torch.float64),\n",
       " 'month_cos': tensor([ 0.8660, -0.8660], dtype=torch.float64),\n",
       " 'garment_group_name': array(['Jersey Fancy', 'Dresses Ladies'], dtype=object),\n",
       " 'index_group_name': array(['Ladieswear', 'Ladieswear'], dtype=object),\n",
       " 'age': tensor([38., 23.], dtype=torch.float64),\n",
       " 'club_member_status': array(['ACTIVE', 'ACTIVE'], dtype=object),\n",
       " 'age_group': ['36-45', '19-25']\n",
       " Categories (8, object): ['0-18' < '19-25' < '26-35' < '36-45' < '46-55' < '56-65' < '66-80' < '80+']}"
      ]
     },
     "execution_count": 26,
     "metadata": {},
     "output_type": "execute_result"
    }
   ],
   "source": [
    "BATCH_SIZE = 2048  # 2048\n",
    "train_dataset = CustomDataset(train_df)\n",
    "train_dataset[0:2]"
   ]
  },
  {
   "cell_type": "code",
   "execution_count": null,
   "metadata": {},
   "outputs": [],
   "source": [
    "user_id_list = df[\"customer_id\"].unique().tolist()\n",
    "item_id_list = df[\"article_id\"].unique().tolist()"
   ]
  },
  {
   "cell_type": "code",
   "execution_count": null,
   "metadata": {},
   "outputs": [],
   "source": [
    "garment_group_list = df[\"garment_group_name\"].unique().tolist()\n",
    "index_group_list = df[\"index_group_name\"].unique().tolist()"
   ]
  },
  {
   "cell_type": "code",
   "execution_count": 28,
   "metadata": {},
   "outputs": [
    {
     "name": "stdout",
     "output_type": "stream",
     "text": [
      "Number of garment group: 21\n",
      "Number of index group: 5\n"
     ]
    }
   ],
   "source": [
    "print(f\"Number of garment group: {len(garment_group_list):,}\")\n",
    "print(f\"Number of index group: {len(index_group_list):,}\")"
   ]
  },
  {
   "cell_type": "code",
   "execution_count": 20,
   "metadata": {},
   "outputs": [
    {
     "name": "stdout",
     "output_type": "stream",
     "text": [
      "Number of transactions: 28,483,259\n",
      "Number of users: 1,332,386\n",
      "Number of items: 104,011\n",
      "['Jersey Fancy', 'Dresses Ladies', 'Socks and Tights', 'Swimwear', 'Under-, Nightwear', 'Blouses', 'Trousers', 'Accessories', 'Knitwear', 'Trousers Denim', 'Jersey Basic', 'Outdoor', 'Shirts', 'Shoes', 'Unknown', 'Special Offers', 'Shorts', 'Skirts', 'Dressed', 'Woven/Jersey/Knitted mix Baby', 'Dresses/Skirts girls']\n"
     ]
    }
   ],
   "source": [
    "print(f\"Number of transactions: {len(train_df):,}\")\n",
    "print(f\"Number of users: {len(user_id_list):,}\")\n",
    "print(f\"Number of items: {len(item_id_list):,}\")\n",
    "print(garment_group_list)"
   ]
  },
  {
   "cell_type": "markdown",
   "metadata": {},
   "source": [
    "## Two Tower Model\n",
    "\n",
    "- Query model: Generates a query representation given user and transaction features.\n",
    "- Candidate model: Generates an item representation given item features.\n",
    "\n",
    "**Both models produce embeddings that live in the same embedding space.**\n",
    "\n",
    "\n",
    "For the query embedding I will use:\n",
    "- `customer_id`: ID of the customer.\n",
    "- `age`: age of the customer at the time of purchase.\n",
    "- `month_sin`, `month_cos`: time of year the purchase was made.\n",
    "\n",
    "For the candidate embedding I will use:\n",
    "- `article_id`: ID of the item.\n",
    "- `garment_group_name`: type of garment.\n",
    "- `index_group_name`: menswear/ladieswear etc.\n",
    "\n",
    "\n",
    "\n"
   ]
  },
  {
   "cell_type": "code",
   "execution_count": 21,
   "metadata": {},
   "outputs": [
    {
     "name": "stdout",
     "output_type": "stream",
     "text": [
      "Using cpu device\n"
     ]
    }
   ],
   "source": [
    "device = \"cuda\" if torch.cuda.is_available() else \"cpu\"\n",
    "print(f\"Using {device} device\")"
   ]
  },
  {
   "cell_type": "code",
   "execution_count": 22,
   "metadata": {},
   "outputs": [],
   "source": [
    "from torch import nn\n",
    "from typing import List"
   ]
  },
  {
   "cell_type": "code",
   "execution_count": null,
   "metadata": {},
   "outputs": [],
   "source": [
    "class StringLookup:\n",
    "\n",
    "    def __init__(self, vocabulary: List[str], mask_token=None):\n",
    "        self.vocab = {word: idx for idx, word in enumerate(vocabulary)}\n",
    "        self.vocab[\"<UNK>\"] = len(self.vocab)\n",
    "        self.mask_token = mask_token\n",
    "\n",
    "    def __call__(self, inputs: np.ndarray) -> torch.Tensor:\n",
    "        # Convert string inputs to indices\n",
    "        indices = [self.vocab.get(x, self.vocab[\"<UNK>\"]) for x in inputs]\n",
    "        return torch.tensor(indices, dtype=torch.long)\n",
    "\n",
    "    def __len__(self):\n",
    "        return len(self.vocab)\n",
    "\n",
    "\n",
    "class StringEmbedding(nn.Module):\n",
    "    def __init__(self, user_id_list: List[str], embedding_dimension: int):\n",
    "        super().__init__()\n",
    "\n",
    "        # Create the vocabulary space\n",
    "        self.string_lookup = StringLookup(user_id_list)\n",
    "\n",
    "        # The real embeddings\n",
    "        self.embedding = nn.Embedding(num_embeddings=len(self.string_lookup), embedding_dim=embedding_dimension)\n",
    "\n",
    "    def forward(self, user_ids: torch.Tensor) -> torch.Tensor:\n",
    "        # Convert user IDs to indices\n",
    "        return self.embedding(self.string_lookup(user_ids))\n"
   ]
  },
  {
   "cell_type": "code",
   "execution_count": 24,
   "metadata": {},
   "outputs": [],
   "source": [
    "from typing import Dict\n",
    "\n",
    "\n",
    "class QueryTower(nn.Module):\n",
    "\n",
    "    def __init__(self, user_id_list: List[str], embedding_dimension: int):\n",
    "        super().__init__()\n",
    "\n",
    "        self.user_embedding = StringEmbedding(user_id_list, embedding_dimension)\n",
    "        self.age_normalization = nn.BatchNorm1d(1)\n",
    "\n",
    "        self.dense_nn = nn.Sequential(nn.Linear(in_features=embedding_dimension + 3, out_features=embedding_dimension), nn.Dropout(0.2), nn.ReLU(), nn.Linear(embedding_dimension, embedding_dimension))\n",
    "\n",
    "    def forward(self, inputs: Dict[str, torch.Tensor]) -> torch.Tensor:\n",
    "        user_embedding = self.user_embedding(inputs[\"customer_id\"])\n",
    "        normalized_age = self.age_normalization(inputs[\"age\"].float().unsqueeze(1))\n",
    "        month_sin = inputs[\"month_sin\"].float().unsqueeze(1)\n",
    "        month_cos = inputs[\"month_cos\"].float().unsqueeze(1)\n",
    "\n",
    "        concatenated_inputs = torch.cat([user_embedding, normalized_age, month_sin, month_cos], dim=1)\n",
    "\n",
    "        outputs = self.dense_nn(concatenated_inputs)\n",
    "        return outputs"
   ]
  },
  {
   "cell_type": "code",
   "execution_count": 27,
   "metadata": {},
   "outputs": [
    {
     "data": {
      "text/plain": [
       "torch.Size([2, 128])"
      ]
     },
     "execution_count": 27,
     "metadata": {},
     "output_type": "execute_result"
    }
   ],
   "source": [
    "QueryTower(user_id_list, 128)(train_dataset[0:2]).shape"
   ]
  },
  {
   "cell_type": "markdown",
   "metadata": {},
   "source": [
    "The candidate model is very similar to the query model.\n",
    "\n",
    "it has two categorical features which will be one-hot encode."
   ]
  },
  {
   "cell_type": "code",
   "execution_count": 29,
   "metadata": {},
   "outputs": [],
   "source": [
    "class ItemTower(nn.Module):\n",
    "\n",
    "    def __init__(self, item_id_list: List[str], garment_group_list: List[str], index_group_list: List[str], embedding_dimension: int):\n",
    "        super().__init__()\n",
    "        self.item_embedding = StringEmbedding(item_id_list, embedding_dimension)\n",
    "\n",
    "        # Garment group setup\n",
    "        self.garment_group_lookup = StringLookup(vocabulary=garment_group_list)\n",
    "        self.garment_group_size = len(garment_group_list)\n",
    "\n",
    "        # Index group setup\n",
    "        self.index_group_lookup = StringLookup(vocabulary=index_group_list)\n",
    "        self.index_group_size = len(index_group_list)\n",
    "\n",
    "        input_dim = embedding_dimension + self.garment_group_size + self.index_group_size\n",
    "        self.dense_nn = nn.Sequential(nn.Linear(input_dim, embedding_dimension), nn.Dropout(0.2), nn.ReLU(), nn.Linear(embedding_dimension, embedding_dimension))\n",
    "\n",
    "    def forward(self, inputs: Dict[str, torch.Tensor]) -> torch.Tensor:\n",
    "\n",
    "        # Convert article_id strings to embeddings\n",
    "        item_embedding = self.item_embedding(inputs[\"article_id\"])\n",
    "\n",
    "        garment_indices = self.garment_group_lookup(inputs[\"garment_group_name\"])\n",
    "        garment_one_hot = torch.zeros((garment_indices.size(0), self.garment_group_size), dtype=torch.float)\n",
    "        garment_one_hot.scatter_(1, garment_indices.unsqueeze(1), 1.0)\n",
    "\n",
    "        # Convert index group strings to one-hot encodings\n",
    "        index_indices = self.index_group_lookup(inputs[\"index_group_name\"])\n",
    "        index_one_hot = torch.zeros((index_indices.size(0), self.index_group_size), dtype=torch.float)\n",
    "        index_one_hot.scatter_(1, index_indices.unsqueeze(1), 1.0)\n",
    "\n",
    "        # Concatenate all features\n",
    "        concatenated = torch.cat([item_embedding, garment_one_hot, index_one_hot], dim=1)\n",
    "\n",
    "        outputs = self.dense_nn(concatenated)\n",
    "\n",
    "        return outputs"
   ]
  },
  {
   "cell_type": "code",
   "execution_count": 30,
   "metadata": {},
   "outputs": [
    {
     "data": {
      "text/plain": [
       "torch.Size([2, 128])"
      ]
     },
     "execution_count": 30,
     "metadata": {},
     "output_type": "execute_result"
    }
   ],
   "source": [
    "ItemTower(item_id_list, garment_group_list, index_group_list, 128)(train_dataset[0:2]).shape"
   ]
  },
  {
   "cell_type": "code",
   "execution_count": 155,
   "metadata": {},
   "outputs": [],
   "source": [
    "# Create dataset of unique items\n",
    "unique_items_df = df.drop_duplicates(\"article_id\")[[\"article_id\", \"garment_group_name\", \"index_group_name\"]]"
   ]
  },
  {
   "cell_type": "code",
   "execution_count": 157,
   "metadata": {},
   "outputs": [],
   "source": [
    "unique_items_df[\"article_id\"] = unique_items_df[\"article_id\"].astype(np.int64)"
   ]
  },
  {
   "cell_type": "code",
   "execution_count": null,
   "metadata": {},
   "outputs": [],
   "source": [
    "unique_items_dataset = CustomDataset(unique_items_df)\n",
    "unique_items_loader = DataLoader(unique_items_dataset, batch_size=BATCH_SIZE, shuffle=False)\n"
   ]
  },
  {
   "cell_type": "code",
   "execution_count": 34,
   "metadata": {},
   "outputs": [
    {
     "data": {
      "text/plain": [
       "{'article_id': tensor([800800004, 770211001]),\n",
       " 'garment_group_name': array(['Jersey Fancy', 'Dresses Ladies'], dtype=object),\n",
       " 'index_group_name': array(['Ladieswear', 'Ladieswear'], dtype=object)}"
      ]
     },
     "execution_count": 34,
     "metadata": {},
     "output_type": "execute_result"
    }
   ],
   "source": [
    "unique_items_dataset[0:2]"
   ]
  },
  {
   "cell_type": "code",
   "execution_count": 35,
   "metadata": {},
   "outputs": [],
   "source": [
    "import torch.nn.functional as F\n",
    "from typing import Dict, Tuple\n",
    "from tqdm import tqdm\n",
    "\n",
    "\n",
    "class TwoTowerModel(nn.Module):\n",
    "    def __init__(self, query_tower: nn.Module, item_tower: nn.Module):\n",
    "        super().__init__()\n",
    "        self.query_tower = query_tower\n",
    "        self.item_tower = item_tower\n",
    "\n",
    "    def forward(self, batch: Dict) -> Tuple[torch.Tensor, torch.Tensor]:\n",
    "        query_embeddings = self.query_tower(batch)\n",
    "        item_embeddings = self.item_tower(batch)\n",
    "\n",
    "        # Normalize embeddings\n",
    "        query_embeddings = F.normalize(query_embeddings, p=2, dim=1)\n",
    "        item_embeddings = F.normalize(item_embeddings, p=2, dim=1)\n",
    "\n",
    "        return query_embeddings, item_embeddings"
   ]
  },
  {
   "cell_type": "code",
   "execution_count": 55,
   "metadata": {},
   "outputs": [],
   "source": [
    "class RetrievalLoss(nn.Module):\n",
    "\n",
    "    def __init__(self, temperature: float = None):\n",
    "        super(RetrievalLoss, self).__init__()\n",
    "        self.temperature = temperature\n",
    "\n",
    "    def forward(self, query_embeddings, item_embeddings, labels=None):\n",
    "\n",
    "        # Calculate dot product (similarity scores) between query and candidates\n",
    "        similarities = torch.matmul(query_embeddings, item_embeddings.t())  # [batch_size, num_items]\n",
    "\n",
    "        if self.temperature is not None:\n",
    "            similarities /= self.temperature\n",
    "\n",
    "        num_queries = similarities.shape[0]\n",
    "        # num_candidates = similarities.shape[1]\n",
    "\n",
    "        if labels is None:\n",
    "            labels = torch.eye(num_queries)  # [batch_size]\n",
    "\n",
    "        loss_fn = nn.CrossEntropyLoss(reduce=\"none\")\n",
    "\n",
    "        loss = loss_fn(similarities, labels)\n",
    "        return loss"
   ]
  },
  {
   "cell_type": "code",
   "execution_count": null,
   "metadata": {},
   "outputs": [],
   "source": [
    "def train_model2(train_dataloader: DataLoader, val_dataloader: DataLoader, model: TwoTowerModel, learning_rate: float, weight_decay: float, num_epochs: int):\n",
    "    optimizer = torch.optim.AdamW(model.parameters(), lr=learning_rate, weight_decay=weight_decay)\n",
    "    train_loss_history = []\n",
    "    val_loss_history = []\n",
    "    print_every = 1000\n",
    "\n",
    "    retrieval_loss_fn = RetrievalLoss()\n",
    "    for epoch in range(num_epochs):\n",
    "        model.train()\n",
    "        train_losses = []\n",
    "\n",
    "        bformat = \"{l_bar}{bar}| {n_fmt}/{total_fmt} {rate_fmt}{postfix}\"\n",
    "        with tqdm(total=len(train_dataloader), bar_format=bformat) as pbar:\n",
    "\n",
    "            for batch_idx, train_batch in enumerate(train_dataloader):\n",
    "\n",
    "                optimizer.zero_grad()\n",
    "                query_embeddings, item_embeddings = model(train_batch)\n",
    "                loss = retrieval_loss_fn(query_embeddings, item_embeddings)\n",
    "                loss.backward()\n",
    "                optimizer.step()\n",
    "                train_losses.append(loss.item())\n",
    "\n",
    "                pbar.set_description(f\"EPOCH: {epoch:02d} \")\n",
    "                pbar.set_postfix_str(\" LOSS: {:.4f} \".format(train_losses[-1]))\n",
    "                pbar.update()\n",
    "                mean_train_losss = np.mean(train_losses)\n",
    "\n",
    "                if batch_idx % print_every == 0:\n",
    "                    print(\"Training: Batch {0}/{1}. Avg Loss of {2:.4f}\".format(batch_idx + 1, len(train_dataloader), mean_train_losss))\n",
    "\n",
    "        # Last batch values\n",
    "        print(\"Training: Batch {0}/{1}. Avg Loss of {2:.4f}\".format(batch_idx + 1, len(train_dataloader), mean_train_losss))\n",
    "\n",
    "        # Validation\n",
    "        model.eval()\n",
    "        val_loss = 0\n",
    "        with torch.no_grad():\n",
    "            for batch_idx, val_batch in tqdm(enumerate(val_dataloader), desc=\"Validation: \"):\n",
    "                query_embeddings, item_embeddings = model(val_batch)\n",
    "                val_loss += retrieval_loss_fn(query_embeddings, item_embeddings)\n",
    "\n",
    "        print(f\"Epoch {epoch+1}/{num_epochs}:\")\n",
    "        mean_train_losss = np.mean(train_losses)\n",
    "        train_loss_history.append(mean_train_losss)\n",
    "        val_loss_history.append(val_loss / len(val_dataloader))\n",
    "        print(\"Training Loss: {0:.4f}\".format(train_loss_history[-1]))\n",
    "        print(\"Validation Loss: {0:.4f}\".format(val_loss_history[-1]))\n",
    "\n",
    "        torch.save(model.state_dict(), f\"models/training/Epoch_n_{epoch + 1}.pkl\")\n",
    "\n",
    "        # print(\"Epoch {0}/{1}. Average Loss of {2:.4f} -\".format(epoch + 1, num_epochs, mean_train_losss))\n",
    "\n",
    "    return model, train_loss_history, val_loss_history"
   ]
  },
  {
   "cell_type": "code",
   "execution_count": 39,
   "metadata": {},
   "outputs": [
    {
     "data": {
      "text/plain": [
       "TwoTowerModel(\n",
       "  (query_tower): QueryTower(\n",
       "    (user_embedding): StringEmbedding(\n",
       "      (embedding): Embedding(1332387, 16)\n",
       "    )\n",
       "    (age_normalization): BatchNorm1d(1, eps=1e-05, momentum=0.1, affine=True, track_running_stats=True)\n",
       "    (dense_nn): Sequential(\n",
       "      (0): Linear(in_features=19, out_features=16, bias=True)\n",
       "      (1): Dropout(p=0.2, inplace=False)\n",
       "      (2): ReLU()\n",
       "      (3): Linear(in_features=16, out_features=16, bias=True)\n",
       "    )\n",
       "  )\n",
       "  (item_tower): ItemTower(\n",
       "    (item_embedding): StringEmbedding(\n",
       "      (embedding): Embedding(104012, 16)\n",
       "    )\n",
       "    (dense_nn): Sequential(\n",
       "      (0): Linear(in_features=42, out_features=16, bias=True)\n",
       "      (1): Dropout(p=0.2, inplace=False)\n",
       "      (2): ReLU()\n",
       "      (3): Linear(in_features=16, out_features=16, bias=True)\n",
       "    )\n",
       "  )\n",
       ")"
      ]
     },
     "execution_count": 39,
     "metadata": {},
     "output_type": "execute_result"
    }
   ],
   "source": [
    "embedding_dimension = 16\n",
    "model = TwoTowerModel(\n",
    "    query_tower=QueryTower(user_id_list, embedding_dimension=embedding_dimension), item_tower=ItemTower(item_id_list, garment_group_list, index_group_list, embedding_dimension=embedding_dimension)\n",
    ")\n",
    "model"
   ]
  },
  {
   "cell_type": "code",
   "execution_count": 176,
   "metadata": {},
   "outputs": [],
   "source": [
    "learning_rate = 1e-2\n",
    "weight_decay = 1e-3\n",
    "num_epochs = 10"
   ]
  },
  {
   "cell_type": "code",
   "execution_count": 179,
   "metadata": {},
   "outputs": [],
   "source": [
    "BATCH_SIZE = 2048  # 2048\n",
    "\n",
    "# Create datasets\n",
    "train_dataset = CustomDataset(train_df)\n",
    "val_dataset = CustomDataset(val_df)\n",
    "\n",
    "# Create DataLoaders\n",
    "train_loader = DataLoader(train_dataset, batch_size=BATCH_SIZE, shuffle=True, num_workers=0, collate_fn=custom_collate_fn)\n",
    "\n",
    "val_loader = DataLoader(val_dataset, batch_size=BATCH_SIZE, shuffle=False, num_workers=0, collate_fn=custom_collate_fn)"
   ]
  },
  {
   "cell_type": "code",
   "execution_count": 180,
   "metadata": {},
   "outputs": [
    {
     "name": "stderr",
     "output_type": "stream",
     "text": [
      "  0%|          | 0/13908 ?it/se:\\Projects\\H_M_Personalized_Fashion_Recommendations\\venv\\lib\\site-packages\\torch\\nn\\_reduction.py:51: UserWarning: size_average and reduce args will be deprecated, please use reduction='mean' instead.\n",
      "  warnings.warn(warning.format(ret))\n",
      "EPOCH: 00 :   0%|          | 1/13908 32.56s/it,  LOSS: 7.1776 "
     ]
    },
    {
     "name": "stdout",
     "output_type": "stream",
     "text": [
      "Training: Batch 1/13908. Avg Loss of 7.1776\n"
     ]
    },
    {
     "name": "stderr",
     "output_type": "stream",
     "text": [
      "EPOCH: 00 :   7%|▋         | 1001/13908  3.18it/s,  LOSS: 7.1914 "
     ]
    },
    {
     "name": "stdout",
     "output_type": "stream",
     "text": [
      "Training: Batch 1001/13908. Avg Loss of 7.1772\n"
     ]
    },
    {
     "name": "stderr",
     "output_type": "stream",
     "text": [
      "EPOCH: 00 :  14%|█▍        | 2001/13908  2.59it/s,  LOSS: 7.1862 "
     ]
    },
    {
     "name": "stdout",
     "output_type": "stream",
     "text": [
      "Training: Batch 2001/13908. Avg Loss of 7.1784\n"
     ]
    },
    {
     "name": "stderr",
     "output_type": "stream",
     "text": [
      "EPOCH: 00 :  22%|██▏       | 3001/13908  2.38it/s,  LOSS: 7.1821 "
     ]
    },
    {
     "name": "stdout",
     "output_type": "stream",
     "text": [
      "Training: Batch 3001/13908. Avg Loss of 7.1795\n"
     ]
    },
    {
     "name": "stderr",
     "output_type": "stream",
     "text": [
      "EPOCH: 00 :  29%|██▉       | 4001/13908  3.36it/s,  LOSS: 7.1862 "
     ]
    },
    {
     "name": "stdout",
     "output_type": "stream",
     "text": [
      "Training: Batch 4001/13908. Avg Loss of 7.1804\n"
     ]
    },
    {
     "name": "stderr",
     "output_type": "stream",
     "text": [
      "EPOCH: 00 :  36%|███▌      | 5001/13908  2.69it/s,  LOSS: 7.1705 "
     ]
    },
    {
     "name": "stdout",
     "output_type": "stream",
     "text": [
      "Training: Batch 5001/13908. Avg Loss of 7.1812\n"
     ]
    },
    {
     "name": "stderr",
     "output_type": "stream",
     "text": [
      "EPOCH: 00 :  43%|████▎     | 6001/13908  3.23it/s,  LOSS: 7.1843 "
     ]
    },
    {
     "name": "stdout",
     "output_type": "stream",
     "text": [
      "Training: Batch 6001/13908. Avg Loss of 7.1818\n"
     ]
    },
    {
     "name": "stderr",
     "output_type": "stream",
     "text": [
      "EPOCH: 00 :  50%|█████     | 7001/13908  2.59it/s,  LOSS: 7.1970 "
     ]
    },
    {
     "name": "stdout",
     "output_type": "stream",
     "text": [
      "Training: Batch 7001/13908. Avg Loss of 7.1825\n"
     ]
    },
    {
     "name": "stderr",
     "output_type": "stream",
     "text": [
      "EPOCH: 00 :  58%|█████▊    | 8001/13908  3.34it/s,  LOSS: 7.2036 "
     ]
    },
    {
     "name": "stdout",
     "output_type": "stream",
     "text": [
      "Training: Batch 8001/13908. Avg Loss of 7.1831\n"
     ]
    },
    {
     "name": "stderr",
     "output_type": "stream",
     "text": [
      "EPOCH: 00 :  65%|██████▍   | 9001/13908  3.41it/s,  LOSS: 7.1896 "
     ]
    },
    {
     "name": "stdout",
     "output_type": "stream",
     "text": [
      "Training: Batch 9001/13908. Avg Loss of 7.1836\n"
     ]
    },
    {
     "name": "stderr",
     "output_type": "stream",
     "text": [
      "EPOCH: 00 :  72%|███████▏  | 10001/13908  3.42it/s,  LOSS: 7.1823 "
     ]
    },
    {
     "name": "stdout",
     "output_type": "stream",
     "text": [
      "Training: Batch 10001/13908. Avg Loss of 7.1842\n"
     ]
    },
    {
     "name": "stderr",
     "output_type": "stream",
     "text": [
      "EPOCH: 00 :  79%|███████▉  | 11001/13908  3.40it/s,  LOSS: 7.2039 "
     ]
    },
    {
     "name": "stdout",
     "output_type": "stream",
     "text": [
      "Training: Batch 11001/13908. Avg Loss of 7.1846\n"
     ]
    },
    {
     "name": "stderr",
     "output_type": "stream",
     "text": [
      "EPOCH: 00 :  86%|████████▋ | 12001/13908  3.29it/s,  LOSS: 7.1843 "
     ]
    },
    {
     "name": "stdout",
     "output_type": "stream",
     "text": [
      "Training: Batch 12001/13908. Avg Loss of 7.1851\n"
     ]
    },
    {
     "name": "stderr",
     "output_type": "stream",
     "text": [
      "EPOCH: 00 :  93%|█████████▎| 13001/13908  3.50it/s,  LOSS: 7.1956 "
     ]
    },
    {
     "name": "stdout",
     "output_type": "stream",
     "text": [
      "Training: Batch 13001/13908. Avg Loss of 7.1854\n"
     ]
    },
    {
     "name": "stderr",
     "output_type": "stream",
     "text": [
      "EPOCH: 00 : 100%|██████████| 13908/13908  3.00it/s,  LOSS: 7.0282 \n"
     ]
    },
    {
     "name": "stdout",
     "output_type": "stream",
     "text": [
      "Training: Batch 13908/13908. Avg Loss of 7.1858\n"
     ]
    },
    {
     "name": "stderr",
     "output_type": "stream",
     "text": [
      "Validation: : 1546it [02:46,  9.28it/s]\n"
     ]
    },
    {
     "name": "stdout",
     "output_type": "stream",
     "text": [
      "\n",
      "Epoch 1/10:\n",
      "Training Loss: 7.1858\n",
      "Validation Loss: 7.1990\n"
     ]
    },
    {
     "name": "stderr",
     "output_type": "stream",
     "text": [
      "EPOCH: 01 :   0%|          | 1/13908  2.40s/it,  LOSS: 7.1852 "
     ]
    },
    {
     "name": "stdout",
     "output_type": "stream",
     "text": [
      "Training: Batch 1/13908. Avg Loss of 7.1852\n"
     ]
    },
    {
     "name": "stderr",
     "output_type": "stream",
     "text": [
      "EPOCH: 01 :   7%|▋         | 1001/13908  3.38it/s,  LOSS: 7.1875 "
     ]
    },
    {
     "name": "stdout",
     "output_type": "stream",
     "text": [
      "Training: Batch 1001/13908. Avg Loss of 7.1751\n"
     ]
    },
    {
     "name": "stderr",
     "output_type": "stream",
     "text": [
      "EPOCH: 01 :  14%|█▍        | 2001/13908  3.44it/s,  LOSS: 7.1779 "
     ]
    },
    {
     "name": "stdout",
     "output_type": "stream",
     "text": [
      "Training: Batch 2001/13908. Avg Loss of 7.1764\n"
     ]
    },
    {
     "name": "stderr",
     "output_type": "stream",
     "text": [
      "EPOCH: 01 :  22%|██▏       | 3001/13908  3.39it/s,  LOSS: 7.1932 "
     ]
    },
    {
     "name": "stdout",
     "output_type": "stream",
     "text": [
      "Training: Batch 3001/13908. Avg Loss of 7.1774\n"
     ]
    },
    {
     "name": "stderr",
     "output_type": "stream",
     "text": [
      "EPOCH: 01 :  29%|██▉       | 4001/13908  3.48it/s,  LOSS: 7.1821 "
     ]
    },
    {
     "name": "stdout",
     "output_type": "stream",
     "text": [
      "Training: Batch 4001/13908. Avg Loss of 7.1783\n"
     ]
    },
    {
     "name": "stderr",
     "output_type": "stream",
     "text": [
      "EPOCH: 01 :  36%|███▌      | 5001/13908  3.34it/s,  LOSS: 7.1817 "
     ]
    },
    {
     "name": "stdout",
     "output_type": "stream",
     "text": [
      "Training: Batch 5001/13908. Avg Loss of 7.1792\n"
     ]
    },
    {
     "name": "stderr",
     "output_type": "stream",
     "text": [
      "EPOCH: 01 :  43%|████▎     | 6001/13908  3.48it/s,  LOSS: 7.1810 "
     ]
    },
    {
     "name": "stdout",
     "output_type": "stream",
     "text": [
      "Training: Batch 6001/13908. Avg Loss of 7.1799\n"
     ]
    },
    {
     "name": "stderr",
     "output_type": "stream",
     "text": [
      "EPOCH: 01 :  50%|█████     | 7001/13908  3.40it/s,  LOSS: 7.1775 "
     ]
    },
    {
     "name": "stdout",
     "output_type": "stream",
     "text": [
      "Training: Batch 7001/13908. Avg Loss of 7.1804\n"
     ]
    },
    {
     "name": "stderr",
     "output_type": "stream",
     "text": [
      "EPOCH: 01 :  58%|█████▊    | 8001/13908  3.44it/s,  LOSS: 7.1862 "
     ]
    },
    {
     "name": "stdout",
     "output_type": "stream",
     "text": [
      "Training: Batch 8001/13908. Avg Loss of 7.1811\n"
     ]
    },
    {
     "name": "stderr",
     "output_type": "stream",
     "text": [
      "EPOCH: 01 :  65%|██████▍   | 9001/13908  3.35it/s,  LOSS: 7.1855 "
     ]
    },
    {
     "name": "stdout",
     "output_type": "stream",
     "text": [
      "Training: Batch 9001/13908. Avg Loss of 7.1816\n"
     ]
    },
    {
     "name": "stderr",
     "output_type": "stream",
     "text": [
      "EPOCH: 01 :  72%|███████▏  | 10001/13908  3.43it/s,  LOSS: 7.1935 "
     ]
    },
    {
     "name": "stdout",
     "output_type": "stream",
     "text": [
      "Training: Batch 10001/13908. Avg Loss of 7.1821\n"
     ]
    },
    {
     "name": "stderr",
     "output_type": "stream",
     "text": [
      "EPOCH: 01 :  79%|███████▉  | 11001/13908  3.02it/s,  LOSS: 7.1884 "
     ]
    },
    {
     "name": "stdout",
     "output_type": "stream",
     "text": [
      "Training: Batch 11001/13908. Avg Loss of 7.1826\n"
     ]
    },
    {
     "name": "stderr",
     "output_type": "stream",
     "text": [
      "EPOCH: 01 :  86%|████████▋ | 12001/13908  3.29it/s,  LOSS: 7.1825 "
     ]
    },
    {
     "name": "stdout",
     "output_type": "stream",
     "text": [
      "Training: Batch 12001/13908. Avg Loss of 7.1830\n"
     ]
    },
    {
     "name": "stderr",
     "output_type": "stream",
     "text": [
      "EPOCH: 01 :  93%|█████████▎| 13001/13908  2.82it/s,  LOSS: 7.1828 "
     ]
    },
    {
     "name": "stdout",
     "output_type": "stream",
     "text": [
      "Training: Batch 13001/13908. Avg Loss of 7.1835\n"
     ]
    },
    {
     "name": "stderr",
     "output_type": "stream",
     "text": [
      "EPOCH: 01 : 100%|██████████| 13908/13908  3.24it/s,  LOSS: 7.0039 \n"
     ]
    },
    {
     "name": "stdout",
     "output_type": "stream",
     "text": [
      "Training: Batch 13908/13908. Avg Loss of 7.1838\n"
     ]
    },
    {
     "name": "stderr",
     "output_type": "stream",
     "text": [
      "Validation: : 1546it [02:46,  9.29it/s]\n"
     ]
    },
    {
     "name": "stdout",
     "output_type": "stream",
     "text": [
      "\n",
      "Epoch 2/10:\n",
      "Training Loss: 7.1838\n",
      "Validation Loss: 7.1984\n"
     ]
    },
    {
     "name": "stderr",
     "output_type": "stream",
     "text": [
      "EPOCH: 02 :   0%|          | 1/13908  2.42s/it,  LOSS: 7.1690 "
     ]
    },
    {
     "name": "stdout",
     "output_type": "stream",
     "text": [
      "Training: Batch 1/13908. Avg Loss of 7.1690\n"
     ]
    },
    {
     "name": "stderr",
     "output_type": "stream",
     "text": [
      "EPOCH: 02 :   7%|▋         | 1001/13908  3.44it/s,  LOSS: 7.1693 "
     ]
    },
    {
     "name": "stdout",
     "output_type": "stream",
     "text": [
      "Training: Batch 1001/13908. Avg Loss of 7.1737\n"
     ]
    },
    {
     "name": "stderr",
     "output_type": "stream",
     "text": [
      "EPOCH: 02 :  14%|█▍        | 2001/13908  2.98it/s,  LOSS: 7.1679 "
     ]
    },
    {
     "name": "stdout",
     "output_type": "stream",
     "text": [
      "Training: Batch 2001/13908. Avg Loss of 7.1746\n"
     ]
    },
    {
     "name": "stderr",
     "output_type": "stream",
     "text": [
      "EPOCH: 02 :  22%|██▏       | 3001/13908  3.40it/s,  LOSS: 7.1935 "
     ]
    },
    {
     "name": "stdout",
     "output_type": "stream",
     "text": [
      "Training: Batch 3001/13908. Avg Loss of 7.1755\n"
     ]
    },
    {
     "name": "stderr",
     "output_type": "stream",
     "text": [
      "EPOCH: 02 :  29%|██▉       | 4001/13908  2.32it/s,  LOSS: 7.1846 "
     ]
    },
    {
     "name": "stdout",
     "output_type": "stream",
     "text": [
      "Training: Batch 4001/13908. Avg Loss of 7.1764\n"
     ]
    },
    {
     "name": "stderr",
     "output_type": "stream",
     "text": [
      "EPOCH: 02 :  36%|███▌      | 5001/13908  3.28it/s,  LOSS: 7.1656 "
     ]
    },
    {
     "name": "stdout",
     "output_type": "stream",
     "text": [
      "Training: Batch 5001/13908. Avg Loss of 7.1773\n"
     ]
    },
    {
     "name": "stderr",
     "output_type": "stream",
     "text": [
      "EPOCH: 02 :  43%|████▎     | 6001/13908  2.70it/s,  LOSS: 7.1769 "
     ]
    },
    {
     "name": "stdout",
     "output_type": "stream",
     "text": [
      "Training: Batch 6001/13908. Avg Loss of 7.1780\n"
     ]
    },
    {
     "name": "stderr",
     "output_type": "stream",
     "text": [
      "EPOCH: 02 :  50%|█████     | 7001/13908  3.40it/s,  LOSS: 7.1825 "
     ]
    },
    {
     "name": "stdout",
     "output_type": "stream",
     "text": [
      "Training: Batch 7001/13908. Avg Loss of 7.1787\n"
     ]
    },
    {
     "name": "stderr",
     "output_type": "stream",
     "text": [
      "EPOCH: 02 :  58%|█████▊    | 8001/13908  3.38it/s,  LOSS: 7.1613 "
     ]
    },
    {
     "name": "stdout",
     "output_type": "stream",
     "text": [
      "Training: Batch 8001/13908. Avg Loss of 7.1793\n"
     ]
    },
    {
     "name": "stderr",
     "output_type": "stream",
     "text": [
      "EPOCH: 02 :  65%|██████▍   | 9001/13908  3.47it/s,  LOSS: 7.1845 "
     ]
    },
    {
     "name": "stdout",
     "output_type": "stream",
     "text": [
      "Training: Batch 9001/13908. Avg Loss of 7.1799\n"
     ]
    },
    {
     "name": "stderr",
     "output_type": "stream",
     "text": [
      "EPOCH: 02 :  72%|███████▏  | 10001/13908  3.48it/s,  LOSS: 7.1851 "
     ]
    },
    {
     "name": "stdout",
     "output_type": "stream",
     "text": [
      "Training: Batch 10001/13908. Avg Loss of 7.1804\n"
     ]
    },
    {
     "name": "stderr",
     "output_type": "stream",
     "text": [
      "EPOCH: 02 :  79%|███████▉  | 11001/13908  3.41it/s,  LOSS: 7.1866 "
     ]
    },
    {
     "name": "stdout",
     "output_type": "stream",
     "text": [
      "Training: Batch 11001/13908. Avg Loss of 7.1809\n"
     ]
    },
    {
     "name": "stderr",
     "output_type": "stream",
     "text": [
      "EPOCH: 02 :  86%|████████▋ | 12001/13908  3.48it/s,  LOSS: 7.1889 "
     ]
    },
    {
     "name": "stdout",
     "output_type": "stream",
     "text": [
      "Training: Batch 12001/13908. Avg Loss of 7.1813\n"
     ]
    },
    {
     "name": "stderr",
     "output_type": "stream",
     "text": [
      "EPOCH: 02 :  93%|█████████▎| 13001/13908  3.30it/s,  LOSS: 7.1953 "
     ]
    },
    {
     "name": "stdout",
     "output_type": "stream",
     "text": [
      "Training: Batch 13001/13908. Avg Loss of 7.1817\n"
     ]
    },
    {
     "name": "stderr",
     "output_type": "stream",
     "text": [
      "EPOCH: 02 : 100%|██████████| 13908/13908  3.25it/s,  LOSS: 6.9975 \n"
     ]
    },
    {
     "name": "stdout",
     "output_type": "stream",
     "text": [
      "Training: Batch 13908/13908. Avg Loss of 7.1821\n"
     ]
    },
    {
     "name": "stderr",
     "output_type": "stream",
     "text": [
      "Validation: : 1546it [02:47,  9.26it/s]\n"
     ]
    },
    {
     "name": "stdout",
     "output_type": "stream",
     "text": [
      "\n",
      "Epoch 3/10:\n",
      "Training Loss: 7.1821\n",
      "Validation Loss: 7.1976\n"
     ]
    },
    {
     "name": "stderr",
     "output_type": "stream",
     "text": [
      "EPOCH: 03 :   0%|          | 1/13908  2.42s/it,  LOSS: 7.1714 "
     ]
    },
    {
     "name": "stdout",
     "output_type": "stream",
     "text": [
      "Training: Batch 1/13908. Avg Loss of 7.1714\n"
     ]
    },
    {
     "name": "stderr",
     "output_type": "stream",
     "text": [
      "EPOCH: 03 :   7%|▋         | 1001/13908  3.47it/s,  LOSS: 7.1932 "
     ]
    },
    {
     "name": "stdout",
     "output_type": "stream",
     "text": [
      "Training: Batch 1001/13908. Avg Loss of 7.1724\n"
     ]
    },
    {
     "name": "stderr",
     "output_type": "stream",
     "text": [
      "EPOCH: 03 :  14%|█▍        | 2001/13908  3.44it/s,  LOSS: 7.1843 "
     ]
    },
    {
     "name": "stdout",
     "output_type": "stream",
     "text": [
      "Training: Batch 2001/13908. Avg Loss of 7.1734\n"
     ]
    },
    {
     "name": "stderr",
     "output_type": "stream",
     "text": [
      "EPOCH: 03 :  22%|██▏       | 3001/13908  3.42it/s,  LOSS: 7.1804 "
     ]
    },
    {
     "name": "stdout",
     "output_type": "stream",
     "text": [
      "Training: Batch 3001/13908. Avg Loss of 7.1742\n"
     ]
    },
    {
     "name": "stderr",
     "output_type": "stream",
     "text": [
      "EPOCH: 03 :  29%|██▉       | 4001/13908  3.39it/s,  LOSS: 7.1958 "
     ]
    },
    {
     "name": "stdout",
     "output_type": "stream",
     "text": [
      "Training: Batch 4001/13908. Avg Loss of 7.1751\n"
     ]
    },
    {
     "name": "stderr",
     "output_type": "stream",
     "text": [
      "EPOCH: 03 :  36%|███▌      | 5001/13908  3.40it/s,  LOSS: 7.1694 "
     ]
    },
    {
     "name": "stdout",
     "output_type": "stream",
     "text": [
      "Training: Batch 5001/13908. Avg Loss of 7.1760\n"
     ]
    },
    {
     "name": "stderr",
     "output_type": "stream",
     "text": [
      "EPOCH: 03 :  43%|████▎     | 6001/13908  3.41it/s,  LOSS: 7.1749 "
     ]
    },
    {
     "name": "stdout",
     "output_type": "stream",
     "text": [
      "Training: Batch 6001/13908. Avg Loss of 7.1768\n"
     ]
    },
    {
     "name": "stderr",
     "output_type": "stream",
     "text": [
      "EPOCH: 03 :  50%|█████     | 7001/13908  3.44it/s,  LOSS: 7.1900 "
     ]
    },
    {
     "name": "stdout",
     "output_type": "stream",
     "text": [
      "Training: Batch 7001/13908. Avg Loss of 7.1775\n"
     ]
    },
    {
     "name": "stderr",
     "output_type": "stream",
     "text": [
      "EPOCH: 03 :  58%|█████▊    | 8001/13908  3.35it/s,  LOSS: 7.1796 "
     ]
    },
    {
     "name": "stdout",
     "output_type": "stream",
     "text": [
      "Training: Batch 8001/13908. Avg Loss of 7.1781\n"
     ]
    },
    {
     "name": "stderr",
     "output_type": "stream",
     "text": [
      "EPOCH: 03 :  65%|██████▍   | 9001/13908  3.37it/s,  LOSS: 7.1763 "
     ]
    },
    {
     "name": "stdout",
     "output_type": "stream",
     "text": [
      "Training: Batch 9001/13908. Avg Loss of 7.1787\n"
     ]
    },
    {
     "name": "stderr",
     "output_type": "stream",
     "text": [
      "EPOCH: 03 :  72%|███████▏  | 10001/13908  2.93it/s,  LOSS: 7.1989 "
     ]
    },
    {
     "name": "stdout",
     "output_type": "stream",
     "text": [
      "Training: Batch 10001/13908. Avg Loss of 7.1792\n"
     ]
    },
    {
     "name": "stderr",
     "output_type": "stream",
     "text": [
      "EPOCH: 03 :  79%|███████▉  | 11001/13908  3.33it/s,  LOSS: 7.1977 "
     ]
    },
    {
     "name": "stdout",
     "output_type": "stream",
     "text": [
      "Training: Batch 11001/13908. Avg Loss of 7.1797\n"
     ]
    },
    {
     "name": "stderr",
     "output_type": "stream",
     "text": [
      "EPOCH: 03 :  86%|████████▋ | 12001/13908  2.95it/s,  LOSS: 7.1945 "
     ]
    },
    {
     "name": "stdout",
     "output_type": "stream",
     "text": [
      "Training: Batch 12001/13908. Avg Loss of 7.1801\n"
     ]
    },
    {
     "name": "stderr",
     "output_type": "stream",
     "text": [
      "EPOCH: 03 :  93%|█████████▎| 13001/13908  3.42it/s,  LOSS: 7.1899 "
     ]
    },
    {
     "name": "stdout",
     "output_type": "stream",
     "text": [
      "Training: Batch 13001/13908. Avg Loss of 7.1805\n"
     ]
    },
    {
     "name": "stderr",
     "output_type": "stream",
     "text": [
      "EPOCH: 03 : 100%|██████████| 13908/13908  3.25it/s,  LOSS: 6.9993 \n"
     ]
    },
    {
     "name": "stdout",
     "output_type": "stream",
     "text": [
      "Training: Batch 13908/13908. Avg Loss of 7.1809\n"
     ]
    },
    {
     "name": "stderr",
     "output_type": "stream",
     "text": [
      "Validation: : 1546it [02:48,  9.17it/s]\n"
     ]
    },
    {
     "name": "stdout",
     "output_type": "stream",
     "text": [
      "\n",
      "Epoch 4/10:\n",
      "Training Loss: 7.1809\n",
      "Validation Loss: 7.1975\n"
     ]
    },
    {
     "name": "stderr",
     "output_type": "stream",
     "text": [
      "EPOCH: 04 :   0%|          | 1/13908  2.40s/it,  LOSS: 7.1642 "
     ]
    },
    {
     "name": "stdout",
     "output_type": "stream",
     "text": [
      "Training: Batch 1/13908. Avg Loss of 7.1642\n"
     ]
    },
    {
     "name": "stderr",
     "output_type": "stream",
     "text": [
      "EPOCH: 04 :   7%|▋         | 1001/13908  3.27it/s,  LOSS: 7.1796 "
     ]
    },
    {
     "name": "stdout",
     "output_type": "stream",
     "text": [
      "Training: Batch 1001/13908. Avg Loss of 7.1713\n"
     ]
    },
    {
     "name": "stderr",
     "output_type": "stream",
     "text": [
      "EPOCH: 04 :  14%|█▍        | 2001/13908  3.50it/s,  LOSS: 7.1604 "
     ]
    },
    {
     "name": "stdout",
     "output_type": "stream",
     "text": [
      "Training: Batch 2001/13908. Avg Loss of 7.1725\n"
     ]
    },
    {
     "name": "stderr",
     "output_type": "stream",
     "text": [
      "EPOCH: 04 :  22%|██▏       | 3001/13908  2.55it/s,  LOSS: 7.1738 "
     ]
    },
    {
     "name": "stdout",
     "output_type": "stream",
     "text": [
      "Training: Batch 3001/13908. Avg Loss of 7.1735\n"
     ]
    },
    {
     "name": "stderr",
     "output_type": "stream",
     "text": [
      "EPOCH: 04 :  29%|██▉       | 4001/13908  3.31it/s,  LOSS: 7.1617 "
     ]
    },
    {
     "name": "stdout",
     "output_type": "stream",
     "text": [
      "Training: Batch 4001/13908. Avg Loss of 7.1745\n"
     ]
    },
    {
     "name": "stderr",
     "output_type": "stream",
     "text": [
      "EPOCH: 04 :  36%|███▌      | 5001/13908  2.74it/s,  LOSS: 7.1643 "
     ]
    },
    {
     "name": "stdout",
     "output_type": "stream",
     "text": [
      "Training: Batch 5001/13908. Avg Loss of 7.1752\n"
     ]
    },
    {
     "name": "stderr",
     "output_type": "stream",
     "text": [
      "EPOCH: 04 :  43%|████▎     | 6001/13908  3.28it/s,  LOSS: 7.1872 "
     ]
    },
    {
     "name": "stdout",
     "output_type": "stream",
     "text": [
      "Training: Batch 6001/13908. Avg Loss of 7.1759\n"
     ]
    },
    {
     "name": "stderr",
     "output_type": "stream",
     "text": [
      "EPOCH: 04 :  50%|█████     | 7001/13908  3.52it/s,  LOSS: 7.1859 "
     ]
    },
    {
     "name": "stdout",
     "output_type": "stream",
     "text": [
      "Training: Batch 7001/13908. Avg Loss of 7.1765\n"
     ]
    },
    {
     "name": "stderr",
     "output_type": "stream",
     "text": [
      "EPOCH: 04 :  58%|█████▊    | 8001/13908  3.45it/s,  LOSS: 7.1963 "
     ]
    },
    {
     "name": "stdout",
     "output_type": "stream",
     "text": [
      "Training: Batch 8001/13908. Avg Loss of 7.1771\n"
     ]
    },
    {
     "name": "stderr",
     "output_type": "stream",
     "text": [
      "EPOCH: 04 :  65%|██████▍   | 9001/13908  3.39it/s,  LOSS: 7.1845 "
     ]
    },
    {
     "name": "stdout",
     "output_type": "stream",
     "text": [
      "Training: Batch 9001/13908. Avg Loss of 7.1776\n"
     ]
    },
    {
     "name": "stderr",
     "output_type": "stream",
     "text": [
      "EPOCH: 04 :  72%|███████▏  | 10001/13908  3.53it/s,  LOSS: 7.1749 "
     ]
    },
    {
     "name": "stdout",
     "output_type": "stream",
     "text": [
      "Training: Batch 10001/13908. Avg Loss of 7.1781\n"
     ]
    },
    {
     "name": "stderr",
     "output_type": "stream",
     "text": [
      "EPOCH: 04 :  79%|███████▉  | 11001/13908  3.40it/s,  LOSS: 7.1854 "
     ]
    },
    {
     "name": "stdout",
     "output_type": "stream",
     "text": [
      "Training: Batch 11001/13908. Avg Loss of 7.1786\n"
     ]
    },
    {
     "name": "stderr",
     "output_type": "stream",
     "text": [
      "EPOCH: 04 :  86%|████████▋ | 12001/13908  3.39it/s,  LOSS: 7.1883 "
     ]
    },
    {
     "name": "stdout",
     "output_type": "stream",
     "text": [
      "Training: Batch 12001/13908. Avg Loss of 7.1791\n"
     ]
    },
    {
     "name": "stderr",
     "output_type": "stream",
     "text": [
      "EPOCH: 04 :  93%|█████████▎| 13001/13908  3.48it/s,  LOSS: 7.1863 "
     ]
    },
    {
     "name": "stdout",
     "output_type": "stream",
     "text": [
      "Training: Batch 13001/13908. Avg Loss of 7.1795\n"
     ]
    },
    {
     "name": "stderr",
     "output_type": "stream",
     "text": [
      "EPOCH: 04 : 100%|██████████| 13908/13908  3.24it/s,  LOSS: 7.0232 \n"
     ]
    },
    {
     "name": "stdout",
     "output_type": "stream",
     "text": [
      "Training: Batch 13908/13908. Avg Loss of 7.1799\n"
     ]
    },
    {
     "name": "stderr",
     "output_type": "stream",
     "text": [
      "Validation: : 1546it [02:46,  9.31it/s]\n"
     ]
    },
    {
     "name": "stdout",
     "output_type": "stream",
     "text": [
      "\n",
      "Epoch 5/10:\n",
      "Training Loss: 7.1799\n",
      "Validation Loss: 7.1972\n"
     ]
    },
    {
     "name": "stderr",
     "output_type": "stream",
     "text": [
      "EPOCH: 05 :   0%|          | 1/13908  2.32s/it,  LOSS: 7.1728 "
     ]
    },
    {
     "name": "stdout",
     "output_type": "stream",
     "text": [
      "Training: Batch 1/13908. Avg Loss of 7.1728\n"
     ]
    },
    {
     "name": "stderr",
     "output_type": "stream",
     "text": [
      "EPOCH: 05 :   7%|▋         | 1001/13908  3.43it/s,  LOSS: 7.1715 "
     ]
    },
    {
     "name": "stdout",
     "output_type": "stream",
     "text": [
      "Training: Batch 1001/13908. Avg Loss of 7.1708\n"
     ]
    },
    {
     "name": "stderr",
     "output_type": "stream",
     "text": [
      "EPOCH: 05 :  14%|█▍        | 2001/13908  3.46it/s,  LOSS: 7.1692 "
     ]
    },
    {
     "name": "stdout",
     "output_type": "stream",
     "text": [
      "Training: Batch 2001/13908. Avg Loss of 7.1718\n"
     ]
    },
    {
     "name": "stderr",
     "output_type": "stream",
     "text": [
      "EPOCH: 05 :  22%|██▏       | 3001/13908  3.49it/s,  LOSS: 7.1804 "
     ]
    },
    {
     "name": "stdout",
     "output_type": "stream",
     "text": [
      "Training: Batch 3001/13908. Avg Loss of 7.1725\n"
     ]
    },
    {
     "name": "stderr",
     "output_type": "stream",
     "text": [
      "EPOCH: 05 :  29%|██▉       | 4001/13908  3.43it/s,  LOSS: 7.1641 "
     ]
    },
    {
     "name": "stdout",
     "output_type": "stream",
     "text": [
      "Training: Batch 4001/13908. Avg Loss of 7.1735\n"
     ]
    },
    {
     "name": "stderr",
     "output_type": "stream",
     "text": [
      "EPOCH: 05 :  36%|███▌      | 5001/13908  3.38it/s,  LOSS: 7.1915 "
     ]
    },
    {
     "name": "stdout",
     "output_type": "stream",
     "text": [
      "Training: Batch 5001/13908. Avg Loss of 7.1742\n"
     ]
    },
    {
     "name": "stderr",
     "output_type": "stream",
     "text": [
      "EPOCH: 05 :  43%|████▎     | 6001/13908  3.45it/s,  LOSS: 7.1756 "
     ]
    },
    {
     "name": "stdout",
     "output_type": "stream",
     "text": [
      "Training: Batch 6001/13908. Avg Loss of 7.1750\n"
     ]
    },
    {
     "name": "stderr",
     "output_type": "stream",
     "text": [
      "EPOCH: 05 :  50%|█████     | 7001/13908  3.28it/s,  LOSS: 7.1849 "
     ]
    },
    {
     "name": "stdout",
     "output_type": "stream",
     "text": [
      "Training: Batch 7001/13908. Avg Loss of 7.1756\n"
     ]
    },
    {
     "name": "stderr",
     "output_type": "stream",
     "text": [
      "EPOCH: 05 :  58%|█████▊    | 8001/13908  3.50it/s,  LOSS: 7.1853 "
     ]
    },
    {
     "name": "stdout",
     "output_type": "stream",
     "text": [
      "Training: Batch 8001/13908. Avg Loss of 7.1762\n"
     ]
    },
    {
     "name": "stderr",
     "output_type": "stream",
     "text": [
      "EPOCH: 05 :  65%|██████▍   | 9001/13908  3.30it/s,  LOSS: 7.1815 "
     ]
    },
    {
     "name": "stdout",
     "output_type": "stream",
     "text": [
      "Training: Batch 9001/13908. Avg Loss of 7.1769\n"
     ]
    },
    {
     "name": "stderr",
     "output_type": "stream",
     "text": [
      "EPOCH: 05 :  72%|███████▏  | 10001/13908  3.40it/s,  LOSS: 7.1749 "
     ]
    },
    {
     "name": "stdout",
     "output_type": "stream",
     "text": [
      "Training: Batch 10001/13908. Avg Loss of 7.1774\n"
     ]
    },
    {
     "name": "stderr",
     "output_type": "stream",
     "text": [
      "EPOCH: 05 :  79%|███████▉  | 11001/13908  3.30it/s,  LOSS: 7.2043 "
     ]
    },
    {
     "name": "stdout",
     "output_type": "stream",
     "text": [
      "Training: Batch 11001/13908. Avg Loss of 7.1778\n"
     ]
    },
    {
     "name": "stderr",
     "output_type": "stream",
     "text": [
      "EPOCH: 05 :  86%|████████▋ | 12001/13908  3.43it/s,  LOSS: 7.1824 "
     ]
    },
    {
     "name": "stdout",
     "output_type": "stream",
     "text": [
      "Training: Batch 12001/13908. Avg Loss of 7.1784\n"
     ]
    },
    {
     "name": "stderr",
     "output_type": "stream",
     "text": [
      "EPOCH: 05 :  93%|█████████▎| 13001/13908  3.01it/s,  LOSS: 7.1967 "
     ]
    },
    {
     "name": "stdout",
     "output_type": "stream",
     "text": [
      "Training: Batch 13001/13908. Avg Loss of 7.1788\n"
     ]
    },
    {
     "name": "stderr",
     "output_type": "stream",
     "text": [
      "EPOCH: 05 : 100%|██████████| 13908/13908  3.24it/s,  LOSS: 7.0070 \n"
     ]
    },
    {
     "name": "stdout",
     "output_type": "stream",
     "text": [
      "Training: Batch 13908/13908. Avg Loss of 7.1792\n"
     ]
    },
    {
     "name": "stderr",
     "output_type": "stream",
     "text": [
      "Validation: : 1546it [02:47,  9.25it/s]\n"
     ]
    },
    {
     "name": "stdout",
     "output_type": "stream",
     "text": [
      "\n",
      "Epoch 6/10:\n",
      "Training Loss: 7.1792\n",
      "Validation Loss: 7.1967\n"
     ]
    },
    {
     "name": "stderr",
     "output_type": "stream",
     "text": [
      "EPOCH: 06 :   0%|          | 1/13908  2.43s/it,  LOSS: 7.1603 "
     ]
    },
    {
     "name": "stdout",
     "output_type": "stream",
     "text": [
      "Training: Batch 1/13908. Avg Loss of 7.1603\n"
     ]
    },
    {
     "name": "stderr",
     "output_type": "stream",
     "text": [
      "EPOCH: 06 :   7%|▋         | 1001/13908  3.40it/s,  LOSS: 7.1712 "
     ]
    },
    {
     "name": "stdout",
     "output_type": "stream",
     "text": [
      "Training: Batch 1001/13908. Avg Loss of 7.1696\n"
     ]
    },
    {
     "name": "stderr",
     "output_type": "stream",
     "text": [
      "EPOCH: 06 :  14%|█▍        | 2001/13908  2.96it/s,  LOSS: 7.1758 "
     ]
    },
    {
     "name": "stdout",
     "output_type": "stream",
     "text": [
      "Training: Batch 2001/13908. Avg Loss of 7.1708\n"
     ]
    },
    {
     "name": "stderr",
     "output_type": "stream",
     "text": [
      "EPOCH: 06 :  22%|██▏       | 3001/13908  3.38it/s,  LOSS: 7.1688 "
     ]
    },
    {
     "name": "stdout",
     "output_type": "stream",
     "text": [
      "Training: Batch 3001/13908. Avg Loss of 7.1717\n"
     ]
    },
    {
     "name": "stderr",
     "output_type": "stream",
     "text": [
      "EPOCH: 06 :  29%|██▉       | 4001/13908  2.87it/s,  LOSS: 7.1609 "
     ]
    },
    {
     "name": "stdout",
     "output_type": "stream",
     "text": [
      "Training: Batch 4001/13908. Avg Loss of 7.1727\n"
     ]
    },
    {
     "name": "stderr",
     "output_type": "stream",
     "text": [
      "EPOCH: 06 :  36%|███▌      | 5001/13908  3.48it/s,  LOSS: 7.1801 "
     ]
    },
    {
     "name": "stdout",
     "output_type": "stream",
     "text": [
      "Training: Batch 5001/13908. Avg Loss of 7.1734\n"
     ]
    },
    {
     "name": "stderr",
     "output_type": "stream",
     "text": [
      "EPOCH: 06 :  43%|████▎     | 6001/13908  2.17it/s,  LOSS: 7.1942 "
     ]
    },
    {
     "name": "stdout",
     "output_type": "stream",
     "text": [
      "Training: Batch 6001/13908. Avg Loss of 7.1742\n"
     ]
    },
    {
     "name": "stderr",
     "output_type": "stream",
     "text": [
      "EPOCH: 06 :  50%|█████     | 7001/13908  3.33it/s,  LOSS: 7.1789 "
     ]
    },
    {
     "name": "stdout",
     "output_type": "stream",
     "text": [
      "Training: Batch 7001/13908. Avg Loss of 7.1749\n"
     ]
    },
    {
     "name": "stderr",
     "output_type": "stream",
     "text": [
      "EPOCH: 06 :  58%|█████▊    | 8001/13908  3.41it/s,  LOSS: 7.1815 "
     ]
    },
    {
     "name": "stdout",
     "output_type": "stream",
     "text": [
      "Training: Batch 8001/13908. Avg Loss of 7.1756\n"
     ]
    },
    {
     "name": "stderr",
     "output_type": "stream",
     "text": [
      "EPOCH: 06 :  65%|██████▍   | 9001/13908  3.37it/s,  LOSS: 7.1734 "
     ]
    },
    {
     "name": "stdout",
     "output_type": "stream",
     "text": [
      "Training: Batch 9001/13908. Avg Loss of 7.1761\n"
     ]
    },
    {
     "name": "stderr",
     "output_type": "stream",
     "text": [
      "EPOCH: 06 :  72%|███████▏  | 10001/13908  3.49it/s,  LOSS: 7.1688 "
     ]
    },
    {
     "name": "stdout",
     "output_type": "stream",
     "text": [
      "Training: Batch 10001/13908. Avg Loss of 7.1766\n"
     ]
    },
    {
     "name": "stderr",
     "output_type": "stream",
     "text": [
      "EPOCH: 06 :  79%|███████▉  | 11001/13908  3.31it/s,  LOSS: 7.1729 "
     ]
    },
    {
     "name": "stdout",
     "output_type": "stream",
     "text": [
      "Training: Batch 11001/13908. Avg Loss of 7.1772\n"
     ]
    },
    {
     "name": "stderr",
     "output_type": "stream",
     "text": [
      "EPOCH: 06 :  86%|████████▋ | 12001/13908  3.44it/s,  LOSS: 7.1914 "
     ]
    },
    {
     "name": "stdout",
     "output_type": "stream",
     "text": [
      "Training: Batch 12001/13908. Avg Loss of 7.1777\n"
     ]
    },
    {
     "name": "stderr",
     "output_type": "stream",
     "text": [
      "EPOCH: 06 :  93%|█████████▎| 13001/13908  3.39it/s,  LOSS: 7.1826 "
     ]
    },
    {
     "name": "stdout",
     "output_type": "stream",
     "text": [
      "Training: Batch 13001/13908. Avg Loss of 7.1781\n"
     ]
    },
    {
     "name": "stderr",
     "output_type": "stream",
     "text": [
      "EPOCH: 06 : 100%|██████████| 13908/13908  3.24it/s,  LOSS: 7.0342 \n"
     ]
    },
    {
     "name": "stdout",
     "output_type": "stream",
     "text": [
      "Training: Batch 13908/13908. Avg Loss of 7.1785\n"
     ]
    },
    {
     "name": "stderr",
     "output_type": "stream",
     "text": [
      "Validation: : 1546it [02:46,  9.27it/s]\n"
     ]
    },
    {
     "name": "stdout",
     "output_type": "stream",
     "text": [
      "\n",
      "Epoch 7/10:\n",
      "Training Loss: 7.1785\n",
      "Validation Loss: 7.1969\n"
     ]
    },
    {
     "name": "stderr",
     "output_type": "stream",
     "text": [
      "EPOCH: 07 :   0%|          | 1/13908  2.40s/it,  LOSS: 7.1971 "
     ]
    },
    {
     "name": "stdout",
     "output_type": "stream",
     "text": [
      "Training: Batch 1/13908. Avg Loss of 7.1971\n"
     ]
    },
    {
     "name": "stderr",
     "output_type": "stream",
     "text": [
      "EPOCH: 07 :   7%|▋         | 1001/13908  3.09it/s,  LOSS: 7.1849 "
     ]
    },
    {
     "name": "stdout",
     "output_type": "stream",
     "text": [
      "Training: Batch 1001/13908. Avg Loss of 7.1694\n"
     ]
    },
    {
     "name": "stderr",
     "output_type": "stream",
     "text": [
      "EPOCH: 07 :  14%|█▍        | 2001/13908  3.46it/s,  LOSS: 7.1648 "
     ]
    },
    {
     "name": "stdout",
     "output_type": "stream",
     "text": [
      "Training: Batch 2001/13908. Avg Loss of 7.1701\n"
     ]
    },
    {
     "name": "stderr",
     "output_type": "stream",
     "text": [
      "EPOCH: 07 :  22%|██▏       | 3001/13908  3.46it/s,  LOSS: 7.1677 "
     ]
    },
    {
     "name": "stdout",
     "output_type": "stream",
     "text": [
      "Training: Batch 3001/13908. Avg Loss of 7.1713\n"
     ]
    },
    {
     "name": "stderr",
     "output_type": "stream",
     "text": [
      "EPOCH: 07 :  29%|██▉       | 4001/13908  3.35it/s,  LOSS: 7.1758 "
     ]
    },
    {
     "name": "stdout",
     "output_type": "stream",
     "text": [
      "Training: Batch 4001/13908. Avg Loss of 7.1722\n"
     ]
    },
    {
     "name": "stderr",
     "output_type": "stream",
     "text": [
      "EPOCH: 07 :  36%|███▌      | 5001/13908  3.36it/s,  LOSS: 7.1836 "
     ]
    },
    {
     "name": "stdout",
     "output_type": "stream",
     "text": [
      "Training: Batch 5001/13908. Avg Loss of 7.1731\n"
     ]
    },
    {
     "name": "stderr",
     "output_type": "stream",
     "text": [
      "EPOCH: 07 :  43%|████▎     | 6001/13908  3.33it/s,  LOSS: 7.1704 "
     ]
    },
    {
     "name": "stdout",
     "output_type": "stream",
     "text": [
      "Training: Batch 6001/13908. Avg Loss of 7.1738\n"
     ]
    },
    {
     "name": "stderr",
     "output_type": "stream",
     "text": [
      "EPOCH: 07 :  50%|█████     | 7001/13908  3.37it/s,  LOSS: 7.1734 "
     ]
    },
    {
     "name": "stdout",
     "output_type": "stream",
     "text": [
      "Training: Batch 7001/13908. Avg Loss of 7.1744\n"
     ]
    },
    {
     "name": "stderr",
     "output_type": "stream",
     "text": [
      "EPOCH: 07 :  58%|█████▊    | 8001/13908  3.19it/s,  LOSS: 7.1685 "
     ]
    },
    {
     "name": "stdout",
     "output_type": "stream",
     "text": [
      "Training: Batch 8001/13908. Avg Loss of 7.1751\n"
     ]
    },
    {
     "name": "stderr",
     "output_type": "stream",
     "text": [
      "EPOCH: 07 :  65%|██████▍   | 9001/13908  3.26it/s,  LOSS: 7.1741 "
     ]
    },
    {
     "name": "stdout",
     "output_type": "stream",
     "text": [
      "Training: Batch 9001/13908. Avg Loss of 7.1757\n"
     ]
    },
    {
     "name": "stderr",
     "output_type": "stream",
     "text": [
      "EPOCH: 07 :  72%|███████▏  | 10001/13908  3.04it/s,  LOSS: 7.1939 "
     ]
    },
    {
     "name": "stdout",
     "output_type": "stream",
     "text": [
      "Training: Batch 10001/13908. Avg Loss of 7.1763\n"
     ]
    },
    {
     "name": "stderr",
     "output_type": "stream",
     "text": [
      "EPOCH: 07 :  79%|███████▉  | 11001/13908  3.45it/s,  LOSS: 7.1804 "
     ]
    },
    {
     "name": "stdout",
     "output_type": "stream",
     "text": [
      "Training: Batch 11001/13908. Avg Loss of 7.1768\n"
     ]
    },
    {
     "name": "stderr",
     "output_type": "stream",
     "text": [
      "EPOCH: 07 :  86%|████████▋ | 12001/13908  2.84it/s,  LOSS: 7.1755 "
     ]
    },
    {
     "name": "stdout",
     "output_type": "stream",
     "text": [
      "Training: Batch 12001/13908. Avg Loss of 7.1773\n"
     ]
    },
    {
     "name": "stderr",
     "output_type": "stream",
     "text": [
      "EPOCH: 07 :  93%|█████████▎| 13001/13908  3.34it/s,  LOSS: 7.1801 "
     ]
    },
    {
     "name": "stdout",
     "output_type": "stream",
     "text": [
      "Training: Batch 13001/13908. Avg Loss of 7.1778\n"
     ]
    },
    {
     "name": "stderr",
     "output_type": "stream",
     "text": [
      "EPOCH: 07 : 100%|██████████| 13908/13908  3.24it/s,  LOSS: 7.0025 \n"
     ]
    },
    {
     "name": "stdout",
     "output_type": "stream",
     "text": [
      "Training: Batch 13908/13908. Avg Loss of 7.1781\n"
     ]
    },
    {
     "name": "stderr",
     "output_type": "stream",
     "text": [
      "Validation: : 1546it [02:47,  9.24it/s]\n"
     ]
    },
    {
     "name": "stdout",
     "output_type": "stream",
     "text": [
      "\n",
      "Epoch 8/10:\n",
      "Training Loss: 7.1781\n",
      "Validation Loss: 7.1965\n"
     ]
    },
    {
     "name": "stderr",
     "output_type": "stream",
     "text": [
      "EPOCH: 08 :   0%|          | 1/13908  2.39s/it,  LOSS: 7.1712 "
     ]
    },
    {
     "name": "stdout",
     "output_type": "stream",
     "text": [
      "Training: Batch 1/13908. Avg Loss of 7.1712\n"
     ]
    },
    {
     "name": "stderr",
     "output_type": "stream",
     "text": [
      "EPOCH: 08 :   7%|▋         | 1001/13908  2.87it/s,  LOSS: 7.1648 "
     ]
    },
    {
     "name": "stdout",
     "output_type": "stream",
     "text": [
      "Training: Batch 1001/13908. Avg Loss of 7.1689\n"
     ]
    },
    {
     "name": "stderr",
     "output_type": "stream",
     "text": [
      "EPOCH: 08 :  14%|█▍        | 2001/13908  3.31it/s,  LOSS: 7.1661 "
     ]
    },
    {
     "name": "stdout",
     "output_type": "stream",
     "text": [
      "Training: Batch 2001/13908. Avg Loss of 7.1699\n"
     ]
    },
    {
     "name": "stderr",
     "output_type": "stream",
     "text": [
      "EPOCH: 08 :  22%|██▏       | 3001/13908  2.95it/s,  LOSS: 7.1719 "
     ]
    },
    {
     "name": "stdout",
     "output_type": "stream",
     "text": [
      "Training: Batch 3001/13908. Avg Loss of 7.1710\n"
     ]
    },
    {
     "name": "stderr",
     "output_type": "stream",
     "text": [
      "EPOCH: 08 :  29%|██▉       | 4001/13908  3.42it/s,  LOSS: 7.1778 "
     ]
    },
    {
     "name": "stdout",
     "output_type": "stream",
     "text": [
      "Training: Batch 4001/13908. Avg Loss of 7.1719\n"
     ]
    },
    {
     "name": "stderr",
     "output_type": "stream",
     "text": [
      "EPOCH: 08 :  36%|███▌      | 5001/13908  3.37it/s,  LOSS: 7.1765 "
     ]
    },
    {
     "name": "stdout",
     "output_type": "stream",
     "text": [
      "Training: Batch 5001/13908. Avg Loss of 7.1727\n"
     ]
    },
    {
     "name": "stderr",
     "output_type": "stream",
     "text": [
      "EPOCH: 08 :  43%|████▎     | 6001/13908  3.25it/s,  LOSS: 7.1699 "
     ]
    },
    {
     "name": "stdout",
     "output_type": "stream",
     "text": [
      "Training: Batch 6001/13908. Avg Loss of 7.1734\n"
     ]
    },
    {
     "name": "stderr",
     "output_type": "stream",
     "text": [
      "EPOCH: 08 :  50%|█████     | 7001/13908  2.19it/s,  LOSS: 7.1806 "
     ]
    },
    {
     "name": "stdout",
     "output_type": "stream",
     "text": [
      "Training: Batch 7001/13908. Avg Loss of 7.1741\n"
     ]
    },
    {
     "name": "stderr",
     "output_type": "stream",
     "text": [
      "EPOCH: 08 :  58%|█████▊    | 8001/13908  3.37it/s,  LOSS: 7.1788 "
     ]
    },
    {
     "name": "stdout",
     "output_type": "stream",
     "text": [
      "Training: Batch 8001/13908. Avg Loss of 7.1748\n"
     ]
    },
    {
     "name": "stderr",
     "output_type": "stream",
     "text": [
      "EPOCH: 08 :  65%|██████▍   | 9001/13908  3.46it/s,  LOSS: 7.1757 "
     ]
    },
    {
     "name": "stdout",
     "output_type": "stream",
     "text": [
      "Training: Batch 9001/13908. Avg Loss of 7.1754\n"
     ]
    },
    {
     "name": "stderr",
     "output_type": "stream",
     "text": [
      "EPOCH: 08 :  72%|███████▏  | 10001/13908  3.40it/s,  LOSS: 7.1834 "
     ]
    },
    {
     "name": "stdout",
     "output_type": "stream",
     "text": [
      "Training: Batch 10001/13908. Avg Loss of 7.1759\n"
     ]
    },
    {
     "name": "stderr",
     "output_type": "stream",
     "text": [
      "EPOCH: 08 :  79%|███████▉  | 11001/13908  3.44it/s,  LOSS: 7.1796 "
     ]
    },
    {
     "name": "stdout",
     "output_type": "stream",
     "text": [
      "Training: Batch 11001/13908. Avg Loss of 7.1765\n"
     ]
    },
    {
     "name": "stderr",
     "output_type": "stream",
     "text": [
      "EPOCH: 08 :  86%|████████▋ | 12001/13908  3.43it/s,  LOSS: 7.1872 "
     ]
    },
    {
     "name": "stdout",
     "output_type": "stream",
     "text": [
      "Training: Batch 12001/13908. Avg Loss of 7.1770\n"
     ]
    },
    {
     "name": "stderr",
     "output_type": "stream",
     "text": [
      "EPOCH: 08 :  93%|█████████▎| 13001/13908  3.45it/s,  LOSS: 7.1743 "
     ]
    },
    {
     "name": "stdout",
     "output_type": "stream",
     "text": [
      "Training: Batch 13001/13908. Avg Loss of 7.1774\n"
     ]
    },
    {
     "name": "stderr",
     "output_type": "stream",
     "text": [
      "EPOCH: 08 : 100%|██████████| 13908/13908  3.23it/s,  LOSS: 7.0121 \n"
     ]
    },
    {
     "name": "stdout",
     "output_type": "stream",
     "text": [
      "Training: Batch 13908/13908. Avg Loss of 7.1778\n"
     ]
    },
    {
     "name": "stderr",
     "output_type": "stream",
     "text": [
      "Validation: : 1546it [02:46,  9.27it/s]\n"
     ]
    },
    {
     "name": "stdout",
     "output_type": "stream",
     "text": [
      "\n",
      "Epoch 9/10:\n",
      "Training Loss: 7.1778\n",
      "Validation Loss: 7.1961\n"
     ]
    },
    {
     "name": "stderr",
     "output_type": "stream",
     "text": [
      "EPOCH: 09 :   0%|          | 1/13908  2.40s/it,  LOSS: 7.1758 "
     ]
    },
    {
     "name": "stdout",
     "output_type": "stream",
     "text": [
      "Training: Batch 1/13908. Avg Loss of 7.1758\n"
     ]
    },
    {
     "name": "stderr",
     "output_type": "stream",
     "text": [
      "EPOCH: 09 :   7%|▋         | 1001/13908  3.36it/s,  LOSS: 7.1727 "
     ]
    },
    {
     "name": "stdout",
     "output_type": "stream",
     "text": [
      "Training: Batch 1001/13908. Avg Loss of 7.1690\n"
     ]
    },
    {
     "name": "stderr",
     "output_type": "stream",
     "text": [
      "EPOCH: 09 :  14%|█▍        | 2001/13908  3.50it/s,  LOSS: 7.1858 "
     ]
    },
    {
     "name": "stdout",
     "output_type": "stream",
     "text": [
      "Training: Batch 2001/13908. Avg Loss of 7.1700\n"
     ]
    },
    {
     "name": "stderr",
     "output_type": "stream",
     "text": [
      "EPOCH: 09 :  22%|██▏       | 3001/13908  3.34it/s,  LOSS: 7.1868 "
     ]
    },
    {
     "name": "stdout",
     "output_type": "stream",
     "text": [
      "Training: Batch 3001/13908. Avg Loss of 7.1710\n"
     ]
    },
    {
     "name": "stderr",
     "output_type": "stream",
     "text": [
      "EPOCH: 09 :  29%|██▉       | 4001/13908  3.44it/s,  LOSS: 7.1718 "
     ]
    },
    {
     "name": "stdout",
     "output_type": "stream",
     "text": [
      "Training: Batch 4001/13908. Avg Loss of 7.1719\n"
     ]
    },
    {
     "name": "stderr",
     "output_type": "stream",
     "text": [
      "EPOCH: 09 :  36%|███▌      | 5001/13908  3.40it/s,  LOSS: 7.1783 "
     ]
    },
    {
     "name": "stdout",
     "output_type": "stream",
     "text": [
      "Training: Batch 5001/13908. Avg Loss of 7.1726\n"
     ]
    },
    {
     "name": "stderr",
     "output_type": "stream",
     "text": [
      "EPOCH: 09 :  43%|████▎     | 6001/13908  3.36it/s,  LOSS: 7.1886 "
     ]
    },
    {
     "name": "stdout",
     "output_type": "stream",
     "text": [
      "Training: Batch 6001/13908. Avg Loss of 7.1733\n"
     ]
    },
    {
     "name": "stderr",
     "output_type": "stream",
     "text": [
      "EPOCH: 09 :  50%|█████     | 7001/13908  3.12it/s,  LOSS: 7.1921 "
     ]
    },
    {
     "name": "stdout",
     "output_type": "stream",
     "text": [
      "Training: Batch 7001/13908. Avg Loss of 7.1740\n"
     ]
    },
    {
     "name": "stderr",
     "output_type": "stream",
     "text": [
      "EPOCH: 09 :  58%|█████▊    | 8001/13908  3.28it/s,  LOSS: 7.1614 "
     ]
    },
    {
     "name": "stdout",
     "output_type": "stream",
     "text": [
      "Training: Batch 8001/13908. Avg Loss of 7.1746\n"
     ]
    },
    {
     "name": "stderr",
     "output_type": "stream",
     "text": [
      "EPOCH: 09 :  65%|██████▍   | 9001/13908  2.86it/s,  LOSS: 7.1878 "
     ]
    },
    {
     "name": "stdout",
     "output_type": "stream",
     "text": [
      "Training: Batch 9001/13908. Avg Loss of 7.1753\n"
     ]
    },
    {
     "name": "stderr",
     "output_type": "stream",
     "text": [
      "EPOCH: 09 :  72%|███████▏  | 10001/13908  3.53it/s,  LOSS: 7.1923 "
     ]
    },
    {
     "name": "stdout",
     "output_type": "stream",
     "text": [
      "Training: Batch 10001/13908. Avg Loss of 7.1759\n"
     ]
    },
    {
     "name": "stderr",
     "output_type": "stream",
     "text": [
      "EPOCH: 09 :  79%|███████▉  | 11001/13908  2.53it/s,  LOSS: 7.1816 "
     ]
    },
    {
     "name": "stdout",
     "output_type": "stream",
     "text": [
      "Training: Batch 11001/13908. Avg Loss of 7.1764\n"
     ]
    },
    {
     "name": "stderr",
     "output_type": "stream",
     "text": [
      "EPOCH: 09 :  86%|████████▋ | 12001/13908  2.86it/s,  LOSS: 7.1721 "
     ]
    },
    {
     "name": "stdout",
     "output_type": "stream",
     "text": [
      "Training: Batch 12001/13908. Avg Loss of 7.1769\n"
     ]
    },
    {
     "name": "stderr",
     "output_type": "stream",
     "text": [
      "EPOCH: 09 :  93%|█████████▎| 13001/13908  3.33it/s,  LOSS: 7.1837 "
     ]
    },
    {
     "name": "stdout",
     "output_type": "stream",
     "text": [
      "Training: Batch 13001/13908. Avg Loss of 7.1773\n"
     ]
    },
    {
     "name": "stderr",
     "output_type": "stream",
     "text": [
      "EPOCH: 09 : 100%|██████████| 13908/13908  3.21it/s,  LOSS: 7.0117 \n"
     ]
    },
    {
     "name": "stdout",
     "output_type": "stream",
     "text": [
      "Training: Batch 13908/13908. Avg Loss of 7.1776\n"
     ]
    },
    {
     "name": "stderr",
     "output_type": "stream",
     "text": [
      "Validation: : 1546it [02:46,  9.27it/s]\n"
     ]
    },
    {
     "name": "stdout",
     "output_type": "stream",
     "text": [
      "\n",
      "Epoch 10/10:\n",
      "Training Loss: 7.1776\n",
      "Validation Loss: 7.1957\n"
     ]
    }
   ],
   "source": [
    "model, train_loss_history, val_loss_history = train_model2(train_loader, val_loader, model, learning_rate, weight_decay, num_epochs)"
   ]
  },
  {
   "cell_type": "code",
   "execution_count": null,
   "metadata": {},
   "outputs": [
    {
     "data": {
      "image/png": "[encoded data removed]",
      "text/plain": [
       "<Figure size 1000x600 with 1 Axes>"
      ]
     },
     "metadata": {},
     "output_type": "display_data"
    }
   ],
   "source": [
    "import matplotlib.pyplot as plt\n",
    "\n",
    "\n",
    "def plot_loss_history(loss_history, num_epochs):\n",
    "    plt.figure(figsize=(10, 6))\n",
    "    plt.plot(range(1, num_epochs + 1), loss_history, marker=\"o\")\n",
    "    plt.title(\"Training Loss over Epochs\")\n",
    "    plt.xlabel(\"Epoch\")\n",
    "    plt.ylabel(\"Average Loss\")\n",
    "    plt.grid(True)\n",
    "    plt.xticks(range(1, num_epochs + 1))  # Set x-axis ticks to show each epoch\n",
    "\n",
    "    # Annotate the lowest loss point\n",
    "    min_loss = min(loss_history)\n",
    "    min_epoch = loss_history.index(min_loss) + 1\n",
    "    plt.annotate(\n",
    "        f\"Lowest: {min_loss:.4f}\",\n",
    "        xy=(min_epoch, min_loss),\n",
    "        xytext=(5, 5),\n",
    "        textcoords=\"offset points\",\n",
    "        ha=\"left\",\n",
    "        va=\"bottom\",\n",
    "        bbox=dict(boxstyle=\"round,pad=0.5\", fc=\"yellow\", alpha=0.5),\n",
    "        arrowprops=dict(arrowstyle=\"->\", connectionstyle=\"arc3,rad=0\"),\n",
    "    )\n",
    "\n",
    "    plt.tight_layout()\n",
    "    plt.show()\n",
    "\n",
    "\n",
    "plot_loss_history([7.27, 7.22, 7.20, 7.19, 7.18] + train_loss_history, num_epochs)"
   ]
  },
  {
   "cell_type": "code",
   "execution_count": null,
   "metadata": {},
   "outputs": [],
   "source": [
    "plot_loss_history(val_loss_history, num_epochs)"
   ]
  },
  {
   "cell_type": "code",
   "execution_count": 189,
   "metadata": {},
   "outputs": [],
   "source": [
    "class TopKAccuracyMetric:\n",
    "    def __init__(self, k_values: List[int]):\n",
    "        self.k_values = sorted(k_values)\n",
    "        self.reset()\n",
    "\n",
    "    def reset(self):\n",
    "        self.total = 0\n",
    "        self.correct = {k: 0 for k in self.k_values}\n",
    "\n",
    "    def update(self, predictions: torch.Tensor, targets: torch.Tensor):\n",
    "        # predictions: [batch_size, num_items] tensor of similarity scores\n",
    "        # targets: [batch_size] tensor of correct item indices\n",
    "\n",
    "        # Get the top k predictions for each query\n",
    "        _, top_indices = torch.topk(predictions, max(self.k_values), dim=1)\n",
    "\n",
    "        # Convert targets to column vector for broadcasting\n",
    "        targets = targets.view(-1, 1)\n",
    "\n",
    "        # Check if correct item is in top k predictions\n",
    "        for k in self.k_values:\n",
    "            correct_in_k = (top_indices[:, :k] == targets).any(dim=1)\n",
    "            self.correct[k] += correct_in_k.sum().item()\n",
    "\n",
    "        self.total += len(targets)\n",
    "\n",
    "    def compute(self):\n",
    "        return {f\"top_{k}_accuracy\": (self.correct[k] / self.total) * 100 for k in self.k_values}"
   ]
  },
  {
   "cell_type": "code",
   "execution_count": 191,
   "metadata": {},
   "outputs": [],
   "source": [
    "def evaluate_top_k(model: TwoTowerModel, val_loader: DataLoader, k_values: List[int]):\n",
    "    model.eval()\n",
    "    metric = TopKAccuracyMetric(k_values)\n",
    "\n",
    "    # First, compute all item embeddings\n",
    "    print(\"Computing item embeddings...\")\n",
    "    all_item_embeddings = []\n",
    "    all_item_ids = []\n",
    "\n",
    "    with torch.no_grad():\n",
    "        for batch in tqdm(unique_items_loader):\n",
    "            item_embeddings = model.item_tower(batch)\n",
    "            all_item_embeddings.append(item_embeddings.cpu())\n",
    "            all_item_ids.extend(batch[\"article_id\"].cpu())\n",
    "\n",
    "    all_item_embeddings = torch.cat(all_item_embeddings, dim=0).to(device)\n",
    "\n",
    "    # Create mapping from item_id to index\n",
    "    item_id_to_idx = {item_id.item(): idx for idx, item_id in enumerate(all_item_ids)}\n",
    "\n",
    "    print(\"Computing top-k accuracy...\")\n",
    "    with torch.no_grad():\n",
    "        for batch in tqdm(val_loader):\n",
    "\n",
    "            # Get query embeddings\n",
    "            query_embeddings = model.query_tower(batch)\n",
    "\n",
    "            # Compute similarity scores with all items\n",
    "            similarity_scores = torch.matmul(query_embeddings, all_item_embeddings.t())\n",
    "\n",
    "            item_data = batch[\"article_id\"].astype(int)\n",
    "\n",
    "            # Get target indices\n",
    "            a = []\n",
    "            for item_id in item_data:\n",
    "                # print(item_id, type(item_id))\n",
    "                a.append(item_id_to_idx[item_id])\n",
    "\n",
    "            target_indices = torch.tensor(a).to(device)\n",
    "            # target_indices = torch.tensor([item_id_to_idx[item_id] for item_id in item_data]).to(device)\n",
    "\n",
    "            # Update metrics\n",
    "            metric.update(similarity_scores, target_indices)\n",
    "\n",
    "    return metric.compute()"
   ]
  },
  {
   "cell_type": "code",
   "execution_count": null,
   "metadata": {},
   "outputs": [],
   "source": [
    "evaluate_top_k(model, val_loader, k_values=[100])"
   ]
  },
  {
   "cell_type": "code",
   "execution_count": null,
   "metadata": {},
   "outputs": [],
   "source": []
  },
  {
   "cell_type": "code",
   "execution_count": null,
   "metadata": {},
   "outputs": [],
   "source": []
  },
  {
   "cell_type": "code",
   "execution_count": null,
   "metadata": {},
   "outputs": [],
   "source": []
  }
 ],
 "metadata": {
  "kernelspec": {
   "display_name": "venv",
   "language": "python",
   "name": "python3"
  },
  "language_info": {
   "codemirror_mode": {
    "name": "ipython",
    "version": 3
   },
   "file_extension": ".py",
   "mimetype": "text/x-python",
   "name": "python",
   "nbconvert_exporter": "python",
   "pygments_lexer": "ipython3",
   "version": "3.10.11"
  }
 },
 "nbformat": 4,
 "nbformat_minor": 2
}
